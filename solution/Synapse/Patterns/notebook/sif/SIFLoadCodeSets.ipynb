{
  "cells": [
    {
      "cell_type": "code",
      "source": [
        "StorageAccountName = \"adsdevdlsadsvyrmadsl\"\r\n",
        "StorageAccountContainer = \"datalakeraw\"\r\n",
        "StorageAccountFolder = \"/samples/sif/\"\r\n",
        "SifDbName = \"sif\"\r\n"
      ],
      "outputs": [
        {
          "output_type": "display_data",
          "data": {
            "application/vnd.livy.statement-meta+json": {
              "spark_pool": "adsdevsynspads",
              "session_id": 6,
              "statement_id": 5,
              "state": "finished",
              "livy_statement_state": "available",
              "queued_time": "2022-07-03T08:32:46.7712087Z",
              "session_start_time": null,
              "execution_start_time": "2022-07-03T08:32:47.1272323Z",
              "execution_finish_time": "2022-07-03T08:32:47.274711Z"
            },
            "text/plain": "StatementMeta(adsdevsynspads, 6, 5, Finished, Available)"
          },
          "metadata": {}
        }
      ],
      "execution_count": 5,
      "metadata": {
        "jupyter": {
          "source_hidden": false,
          "outputs_hidden": false
        },
        "nteract": {
          "transient": {
            "deleting": false
          }
        },
        "tags": [
          "parameters"
        ]
      }
    },
    {
      "cell_type": "markdown",
      "source": [
        "**Read in Full Json Schema from SIF repo**"
      ],
      "metadata": {
        "nteract": {
          "transient": {
            "deleting": false
          }
        }
      }
    },
    {
      "cell_type": "code",
      "source": [
        "import json\r\n",
        "rdd =  spark.sparkContext.wholeTextFiles(\"abfss://\"+StorageAccountContainer+\"@\"+StorageAccountName+\".dfs.core.windows.net\"+StorageAccountFolder+\"jsonSchemaCreate_AU.json\")\r\n",
        "text = rdd.collect()[0][1]\r\n",
        "dict1 = json.loads(str(text))"
      ],
      "outputs": [
        {
          "output_type": "display_data",
          "data": {
            "application/vnd.livy.statement-meta+json": {
              "spark_pool": "adsdevsynspads",
              "session_id": 6,
              "statement_id": 6,
              "state": "finished",
              "livy_statement_state": "available",
              "queued_time": "2022-07-03T08:32:49.2321047Z",
              "session_start_time": null,
              "execution_start_time": "2022-07-03T08:32:49.3277969Z",
              "execution_finish_time": "2022-07-03T08:32:52.0841542Z"
            },
            "text/plain": "StatementMeta(adsdevsynspads, 6, 6, Finished, Available)"
          },
          "metadata": {}
        }
      ],
      "execution_count": 6,
      "metadata": {
        "jupyter": {
          "source_hidden": false,
          "outputs_hidden": false
        },
        "nteract": {
          "transient": {
            "deleting": false
          }
        }
      }
    },
    {
      "cell_type": "markdown",
      "source": [
        "**Declare Function that will register codesets as managed tables**"
      ],
      "metadata": {
        "nteract": {
          "transient": {
            "deleting": false
          }
        }
      }
    },
    {
      "cell_type": "code",
      "source": [
        "from pyspark.sql import SparkSession\r\n",
        "from pyspark.sql.types  import *\r\n",
        "from pyspark.sql import Row\r\n",
        "\r\n",
        "def PersistRefData(name, dict1):\r\n",
        "    ref = dict1['definitions'][name]['oneOf']\r\n",
        "    schema = StructType([StructField('const', StringType()), StructField('title',StringType())])\r\n",
        "    refdf = spark.createDataFrame(data=ref, schema = schema)\r\n",
        "    tablename = \"ref_\" + name\r\n",
        "    spark.catalog.setCurrentDatabase(SifDbName)\r\n",
        "    refdf.write.mode(\"overwrite\").saveAsTable(tablename)"
      ],
      "outputs": [
        {
          "output_type": "display_data",
          "data": {
            "application/vnd.livy.statement-meta+json": {
              "spark_pool": "adsdevsynspads",
              "session_id": 6,
              "statement_id": 7,
              "state": "finished",
              "livy_statement_state": "available",
              "queued_time": "2022-07-03T08:32:56.1902255Z",
              "session_start_time": null,
              "execution_start_time": "2022-07-03T08:32:56.2814207Z",
              "execution_finish_time": "2022-07-03T08:32:56.430761Z"
            },
            "text/plain": "StatementMeta(adsdevsynspads, 6, 7, Finished, Available)"
          },
          "metadata": {}
        }
      ],
      "execution_count": 7,
      "metadata": {
        "jupyter": {
          "source_hidden": false,
          "outputs_hidden": false
        },
        "nteract": {
          "transient": {
            "deleting": false
          }
        }
      }
    },
    {
      "cell_type": "markdown",
      "source": [
        "**Call Function for Each Codeset Entity**"
      ],
      "metadata": {
        "nteract": {
          "transient": {
            "deleting": false
          }
        }
      }
    },
    {
      "cell_type": "code",
      "source": [
        "PersistRefData(\"AbstractContentElement\", dict1)\n",
        "PersistRefData(\"AUCodeSets0211ProgramAvailability\", dict1)\n",
        "PersistRefData(\"AUCodeSets0792IdentificationProcedure\", dict1)\n",
        "PersistRefData(\"AUCodeSetsAccompaniment\", dict1)\n",
        "PersistRefData(\"AUCodeSetsACStrand\", dict1)\n",
        "PersistRefData(\"AUCodeSetsActivityInvolvementCode\", dict1)\n",
        "PersistRefData(\"AUCodeSetsActivityType\", dict1)\n",
        "PersistRefData(\"AUCodeSetsAddressRole\", dict1)\n",
        "PersistRefData(\"AUCodeSetsAddressType\", dict1)\n",
        "PersistRefData(\"AUCodeSetsAGCollection\", dict1)\n",
        "PersistRefData(\"AUCodeSetsAGContextQuestion\", dict1)\n",
        "PersistRefData(\"AUCodeSetsAGSubmissionStatus\", dict1)\n",
        "PersistRefData(\"AUCodeSetsAssessmentReportingMethod\", dict1)\n",
        "PersistRefData(\"AUCodeSetsAssessmentType\", dict1)\n",
        "PersistRefData(\"AUCodeSetsAttendanceCode\", dict1)\n",
        "PersistRefData(\"AUCodeSetsAttendanceStatus\", dict1)\n",
        "PersistRefData(\"AUCodeSetsAustralianCitizenshipStatus\", dict1)\n",
        "PersistRefData(\"AUCodeSetsAustralianStandardClassificationOfCulturalAndEthnicGroupsASCCEG\", dict1)\n",
        "PersistRefData(\"AUCodeSetsAustralianStandardClassificationOfLanguagesASCL\", dict1)\n",
        "PersistRefData(\"AUCodeSetsAustralianStandardClassificationOfReligiousGroupsASCRG\", dict1)\n",
        "PersistRefData(\"AUCodeSetsAustralianStandardGeographicalClassificationASGC\", dict1)\n",
        "PersistRefData(\"AUCodeSetsAustralianTimeZone\", dict1)\n",
        "PersistRefData(\"AUCodeSetsBirthdateVerification\", dict1)\n",
        "PersistRefData(\"AUCodeSetsBoarding\", dict1)\n",
        "PersistRefData(\"AUCodeSetsCalendarEvent\", dict1)\n",
        "PersistRefData(\"AUCodeSetsContactMethod\", dict1)\n",
        "PersistRefData(\"AUCodeSetsDayValueCode\", dict1)\n",
        "PersistRefData(\"AUCodeSetsDetentionCategory\", dict1)\n",
        "PersistRefData(\"AUCodeSetsDwellingArrangement\", dict1)\n",
        "PersistRefData(\"AUCodeSetsEducationAgencyType\", dict1)\n",
        "PersistRefData(\"AUCodeSetsEducationLevel\", dict1)\n",
        "PersistRefData(\"AUCodeSetsElectronicIdType\", dict1)\n",
        "PersistRefData(\"AUCodeSetsEmailType\", dict1)\n",
        "PersistRefData(\"AUCodeSetsEmploymentType\", dict1)\n",
        "PersistRefData(\"AUCodeSetsEnglishProficiency\", dict1)\n",
        "PersistRefData(\"AUCodeSetsEnrollmentTimeFrame\", dict1)\n",
        "PersistRefData(\"AUCodeSetsEntryType\", dict1)\n",
        "PersistRefData(\"AUCodeSetsEquipmentType\", dict1)\n",
        "PersistRefData(\"AUCodeSetsEventCategory\", dict1)\n",
        "PersistRefData(\"AUCodeSetsEventSubCategory\", dict1)\n",
        "PersistRefData(\"AUCodeSetsExitWithdrawalStatus\", dict1)\n",
        "PersistRefData(\"AUCodeSetsExitWithdrawalType\", dict1)\n",
        "PersistRefData(\"AUCodeSetsFederalElectorate\", dict1)\n",
        "PersistRefData(\"AUCodeSetsFFPOSStatusCode\", dict1)\n",
        "PersistRefData(\"AUCodeSetsFTPTStatusCode\", dict1)\n",
        "PersistRefData(\"AUCodeSetsGroupCategoryCode\", dict1)\n",
        "PersistRefData(\"AUCodeSetsImmunisationCertificateStatus\", dict1)\n",
        "PersistRefData(\"AUCodeSetsIndigenousStatus\", dict1)\n",
        "PersistRefData(\"AUCodeSetsLanguageType\", dict1)\n",
        "PersistRefData(\"AUCodeSetsLearningStandardItemRelationshipTypes\", dict1)\n",
        "PersistRefData(\"AUCodeSetsMaritalStatusAIHW\", dict1)\n",
        "PersistRefData(\"AUCodeSetsMediumOfInstruction\", dict1)\n",
        "PersistRefData(\"AUCodeSetsNameUsageType\", dict1)\n",
        "PersistRefData(\"AUCodeSetsNAPJurisdiction\", dict1)\n",
        "PersistRefData(\"AUCodeSetsNAPParticipationCode\", dict1)\n",
        "PersistRefData(\"AUCodeSetsNAPResponseCorrectness\", dict1)\n",
        "PersistRefData(\"AUCodeSetsNAPTestDomain\", dict1)\n",
        "PersistRefData(\"AUCodeSetsNAPTestItemMarkingType\", dict1)\n",
        "PersistRefData(\"AUCodeSetsNAPTestItemType\", dict1)\n",
        "PersistRefData(\"AUCodeSetsNAPTestType\", dict1)\n",
        "PersistRefData(\"AUCodeSetsNAPWritingGenre\", dict1)\n",
        "PersistRefData(\"AUCodeSetsNonSchoolEducation\", dict1)\n",
        "PersistRefData(\"AUCodeSetsOperationalStatus\", dict1)\n",
        "PersistRefData(\"AUCodeSetsPermanentResidentStatus\", dict1)\n",
        "PersistRefData(\"AUCodeSetsPermissionCategoryCode\", dict1)\n",
        "PersistRefData(\"AUCodeSetsPersonalisedPlan\", dict1)\n",
        "PersistRefData(\"AUCodeSetsPictureSource\", dict1)\n",
        "PersistRefData(\"AUCodeSetsPNPCode\", dict1)\n",
        "PersistRefData(\"AUCodeSetsPrePrimaryHours\", dict1)\n",
        "PersistRefData(\"AUCodeSetsProgramFundingSourceCode\", dict1)\n",
        "PersistRefData(\"AUCodeSetsProgressLevel\", dict1)\n",
        "PersistRefData(\"AUCodeSetsPublicSchoolCatchmentStatus\", dict1)\n",
        "PersistRefData(\"AUCodeSetsReceivingLocationOfInstruction\", dict1)\n",
        "PersistRefData(\"AUCodeSetsRelationshipToStudent\", dict1)\n",
        "PersistRefData(\"AUCodeSetsResourceUsageContentType\", dict1)\n",
        "PersistRefData(\"AUCodeSetsScheduledActivityType\", dict1)\n",
        "PersistRefData(\"AUCodeSetsSchoolCoEdStatus\", dict1)\n",
        "PersistRefData(\"AUCodeSetsSchoolEducationLevelType\", dict1)\n",
        "PersistRefData(\"AUCodeSetsSchoolEnrollmentType\", dict1)\n",
        "PersistRefData(\"AUCodeSetsSchoolFocusCode\", dict1)\n",
        "PersistRefData(\"AUCodeSetsSchoolLevel\", dict1)\n",
        "PersistRefData(\"AUCodeSetsSchoolLocation\", dict1)\n",
        "PersistRefData(\"AUCodeSetsSchoolSectorCode\", dict1)\n",
        "PersistRefData(\"AUCodeSetsSchoolSystem\", dict1)\n",
        "PersistRefData(\"AUCodeSetsSessionType\", dict1)\n",
        "PersistRefData(\"AUCodeSetsSexCode\", dict1)\n",
        "PersistRefData(\"AUCodeSetsSourceCodeType\", dict1)\n",
        "PersistRefData(\"AUCodeSetsStaffActivity\", dict1)\n",
        "PersistRefData(\"AUCodeSetsStaffStatus\", dict1)\n",
        "PersistRefData(\"AUCodeSetsStandardAustralianClassificationOfCountriesSACC\", dict1)\n",
        "PersistRefData(\"AUCodeSetsStateTerritoryCode\", dict1)\n",
        "PersistRefData(\"AUCodeSetsStudentFamilyProgramType\", dict1)\n",
        "PersistRefData(\"AUCodeSetsSuspensionCategory\", dict1)\n",
        "PersistRefData(\"AUCodeSetsSystemicStatus\", dict1)\n",
        "PersistRefData(\"AUCodeSetsTeacherCoverCredit\", dict1)\n",
        "PersistRefData(\"AUCodeSetsTeacherCoverSupervision\", dict1)\n",
        "PersistRefData(\"AUCodeSetsTelephoneNumberType\", dict1)\n",
        "PersistRefData(\"AUCodeSetsTravelMode\", dict1)\n",
        "PersistRefData(\"AUCodeSetsVisaStudyEntitlement\", dict1)\n",
        "PersistRefData(\"AUCodeSetsVisaSubClass\", dict1)\n",
        "PersistRefData(\"AUCodeSetsWellbeingAlertCategory\", dict1)\n",
        "PersistRefData(\"AUCodeSetsWellbeingAppealStatus\", dict1)\n",
        "PersistRefData(\"AUCodeSetsWellbeingCharacteristicCategory\", dict1)\n",
        "PersistRefData(\"AUCodeSetsWellbeingCharacteristicClassification\", dict1)\n",
        "PersistRefData(\"AUCodeSetsWellbeingCharacteristicSubCategory\", dict1)\n",
        "PersistRefData(\"AUCodeSetsWellbeingEventCategoryClass\", dict1)\n",
        "PersistRefData(\"AUCodeSetsWellbeingEventLocation\", dict1)\n",
        "PersistRefData(\"AUCodeSetsWellbeingEventTimePeriod\", dict1)\n",
        "PersistRefData(\"AUCodeSetsWellbeingResponseCategory\", dict1)\n",
        "PersistRefData(\"AUCodeSetsWellbeingStatus\", dict1)\n",
        "PersistRefData(\"AUCodeSetsYearLevelCode\", dict1)\n",
        "PersistRefData(\"AUCodeSetsYesOrNoCategory\", dict1)\n",
        "PersistRefData(\"DefinedProtocols\", dict1)\n",
        "PersistRefData(\"GenericYesNo\", dict1)\n",
        "PersistRefData(\"ISO4217CurrencyNamesAndCodeElements\", dict1)"
      ],
      "outputs": [
        {
          "output_type": "display_data",
          "data": {
            "application/vnd.livy.statement-meta+json": {
              "spark_pool": "adsdevsynspads",
              "session_id": 6,
              "statement_id": 4,
              "state": "finished",
              "livy_statement_state": "available",
              "queued_time": "2022-07-03T08:22:01.8748418Z",
              "session_start_time": null,
              "execution_start_time": "2022-07-03T08:22:02.0386962Z",
              "execution_finish_time": "2022-07-03T08:25:39.6357378Z"
            },
            "text/plain": "StatementMeta(adsdevsynspads, 6, 4, Finished, Available)"
          },
          "metadata": {}
        }
      ],
      "execution_count": 4,
      "metadata": {
        "microsoft": {}
      }
    }
  ],
  "metadata": {
    "language_info": {
      "name": "python"
    },
    "kernelspec": {
      "name": "synapse_pyspark",
      "language": "Python",
      "display_name": "Synapse PySpark"
    },
    "kernel_info": {
      "name": "synapse_pyspark"
    },
    "save_output": true,
    "synapse_widget": {
      "version": "0.1",
      "state": {}
    }
  },
  "nbformat": 4,
  "nbformat_minor": 2
}