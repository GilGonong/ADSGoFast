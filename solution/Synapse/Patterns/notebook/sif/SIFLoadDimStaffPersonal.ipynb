{
  "nbformat": 4,
  "nbformat_minor": 2,
  "cells": [
    {
      "cell_type": "code",
      "execution_count": null,
      "outputs": [],
      "metadata": {
        "jupyter": {
          "outputs_hidden": false,
          "source_hidden": false
        },
        "nteract": {
          "transient": {
            "deleting": false
          }
        },
        "tags": [
          "parameters"
        ]
      },
      "source": [
        "SifDbName = \"sif\""
      ]
    },
    {
      "cell_type": "code",
      "execution_count": null,
      "outputs": [],
      "metadata": {
        "jupyter": {
          "outputs_hidden": false,
          "source_hidden": false
        },
        "nteract": {
          "transient": {
            "deleting": false
          }
        }
      },
      "source": [
        "spark.catalog.setCurrentDatabase(SifDbName)"
      ]
    },
    {
      "cell_type": "code",
      "execution_count": null,
      "outputs": [],
      "metadata": {
        "jupyter": {
          "outputs_hidden": false,
          "source_hidden": false
        },
        "nteract": {
          "transient": {
            "deleting": false
          }
        }
      },
      "source": [
        "from pyspark.sql.functions import *\n",
        "df_Raw = spark.sql(\"select * from staffpersonal\")\n",
        "df_RawWJ = df_Raw.withColumn('json',to_json (struct (col ('*')))).select(\"RefId\", \"json\")\n",
        "\n",
        "df_Out = df_RawWJ \\\n",
        ".withColumn('LocalId',F.when(for_exist_column(df_Raw, 'LocalId'), col('LocalId'))) \\\n",
        ".withColumn('StateProvinceId',F.when(for_exist_column(df_Raw, 'StateProvinceId'), col('StateProvinceId'))) \\\n",
        ".withColumn('FirstName',F.when(for_exist_column(df_Raw, 'PersonInfo.Name.GivenName'), col('PersonInfo.Name.GivenName'))) \\\n",
        ".withColumn('LastName',F.when(for_exist_column(df_Raw, 'PersonInfo.Name.FamilyName'), col('PersonInfo.Name.FamilyName'))) \\\n",
        ".withColumn('MiddleName',F.when(for_exist_column(df_Raw, 'MiddleName'), col('MiddleName'))) \\\n",
        ".withColumn('OtherNames',F.when(for_exist_column(df_Raw, 'PersonInfo.OtherNames'), col('PersonInfo.OtherNames'))) \\\n",
        ".withColumn('EmploymentStatus',F.when(for_exist_column(df_Raw, 'EmploymentStatus'), col('EmploymentStatus'))) \\\n",
        ".withColumn('Title',F.when(for_exist_column(df_Raw, 'Title'), col('Title'))) \\\n",
        ".withColumn('IndigenousStatus',F.when(for_exist_column(df_Raw, 'PersonInfo.Demographics.IndigenousStatus'), col('PersonInfo.Demographics.IndigenousStatus'))) \\\n",
        ".withColumn('Sex',F.when(for_exist_column(df_Raw, 'PersonInfo.Demographics.Sex'), col('PersonInfo.Demographics.Sex'))) \\\n",
        ".withColumn('BirthDate',F.when(for_exist_column(df_Raw, 'PersonInfo.Demographics.BirthDate'), col('PersonInfo.Demographics.BirthDate'))) \\\n",
        ".withColumn('DateOfDeath',F.when(for_exist_column(df_Raw, 'PersonInfo.Demographics.DateOfDeath'), col('PersonInfo.Demographics.DateOfDeath'))) \\\n",
        ".withColumn('Deceased',F.when(for_exist_column(df_Raw, 'PersonInfo.Demographics.Deceased'), col('PersonInfo.Demographics.Deceased'))) \\\n",
        ".withColumn('BirthDateVerification',F.when(for_exist_column(df_Raw, 'PersonInfo.Demographics.BirthDateVerification'), col('PersonInfo.Demographics.BirthDateVerification'))) \\\n",
        ".withColumn('PlaceOfBirth',F.when(for_exist_column(df_Raw, 'PersonInfo.Demographics.PlaceOfBirth'), col('PersonInfo.Demographics.PlaceOfBirth'))) \\\n",
        ".withColumn('StateOfBirth',F.when(for_exist_column(df_Raw, 'PersonInfo.Demographics.StateOfBirth'), col('PersonInfo.Demographics.StateOfBirth'))) \\\n",
        ".withColumn('CountryOfBirth ',F.when(for_exist_column(df_Raw, 'PersonInfo.Demographics.CountryOfBirth'), col('PersonInfo.Demographics.CountryOfBirth'))) \\\n",
        ".withColumn('CountryOfCitizenship ',F.when(for_exist_column(df_Raw, 'PersonInfo.Demographics.CountriesOfCitizenship'), col('PersonInfo.Demographics.CountriesOfCitizenship'))) \\\n",
        ".withColumn('CountryOfResidency',F.when(for_exist_column(df_Raw, 'PersonInfo.Demographics.CountriesOfResidency'), col('PersonInfo.Demographics.CountriesOfResidency'))) \\\n",
        ".withColumn('CountryArrivalDate',F.when(for_exist_column(df_Raw, 'PersonInfo.Demographics.CountryArrivalDate'), col('PersonInfo.Demographics.CountryArrivalDate'))) \\\n",
        ".withColumn('AustralianCitizenshipStatus',F.when(for_exist_column(df_Raw, 'PersonInfo.Demographics.AustralianCitizenshipStatus'), col('PersonInfo.Demographics.AustralianCitizenshipStatus'))) \\\n",
        ".withColumn('EnglishProficiency',F.when(for_exist_column(df_Raw, 'PersonInfo.Demographics.EnglishProficiency.Code'), col('PersonInfo.Demographics.EnglishProficiency.Code'))) \\\n",
        ".withColumn('LanguageList',F.when(for_exist_column(df_Raw, 'PersonInfo.Demographics.LanguageList'), col('PersonInfo.Demographics.LanguageList'))) \\\n",
        ".withColumn('DwellingArrangement',F.when(for_exist_column(df_Raw, 'PersonInfo.Demographics.DwellingArrangement.Code'), col('PersonInfo.Demographics.DwellingArrangement.Code'))) \\\n",
        ".withColumn('Religion',F.when(for_exist_column(df_Raw, 'PersonInfo.Demographics.Religion.Code'), col('PersonInfo.Demographics.Religion.Code'))) \\\n",
        ".withColumn('ReligiousEventList',F.when(for_exist_column(df_Raw, 'PersonInfo.Demographics.ReligiousEventList'), col('PersonInfo.Demographics.ReligiousEventList'))) \\\n",
        ".withColumn('ReligiousRegion',F.when(for_exist_column(df_Raw, 'PersonInfo.Demographics.ReligiousRegion'), col('PersonInfo.Demographics.ReligiousRegion'))) \\\n",
        ".withColumn('PermanentResident',F.when(for_exist_column(df_Raw, 'PersonInfo.Demographics.PermanentResident'), col('PersonInfo.Demographics.PermanentResident'))) \\\n",
        ".withColumn('VisaSubClass',F.when(for_exist_column(df_Raw, 'PersonInfo.Demographics.VisaSubClass'), col('PersonInfo.Demographics.VisaSubClass'))) \\\n",
        ".withColumn('VisaStatisticalCode',F.when(for_exist_column(df_Raw, 'PersonInfo.Demographics.VisaStatisticalCode'), col('PersonInfo.Demographics.VisaStatisticalCode'))) \\\n",
        ".withColumn('EmailList',F.when(for_exist_column(df_Raw, 'PersonInfo.EmailList'), col('PersonInfo.EmailList'))) \\\n",
        ".withColumn('PhoneNumberList',F.when(for_exist_column(df_Raw, 'PersonInfo.PhoneNumberList'), col('PersonInfo.PhoneNumberList'))) \\\n",
        ".select('RefId',\t'LocalId',\t'StateProvinceId',\t'FirstName',\t'LastName',\t'MiddleName',\t'OtherNames',\t'EmploymentStatus',\t'Title',\t'IndigenousStatus',\t'Sex',\t'BirthDate',\t'DateOfDeath',\t'Deceased',\t'BirthDateVerification',\t'PlaceOfBirth',\t'StateOfBirth',\t'CountryOfBirth ',\t'CountryOfCitizenship ',\t'CountryOfResidency',\t'CountryArrivalDate',\t'AustralianCitizenshipStatus',\t'EnglishProficiency',\t'LanguageList',\t'DwellingArrangement',\t'Religion',\t'ReligiousEventList',\t'ReligiousRegion',\t'PermanentResident',\t'VisaSubClass',\t'VisaStatisticalCode',\t'EmailList',\t'PhoneNumberList',\t'AddressList',\n",
        ") \n",
        "\n",
        "\n",
        ""
      ]
    },
    {
      "cell_type": "code",
      "execution_count": null,
      "outputs": [],
      "metadata": {
        "jupyter": {
          "outputs_hidden": false,
          "source_hidden": false
        },
        "nteract": {
          "transient": {
            "deleting": false
          }
        }
      },
      "source": [
        "df_Out.write.mode(\"overwrite\").saveAsTable(\"dm_staffpersonal\")"
      ]
    }
  ],
  "metadata": {
    "description": null,
    "kernelspec": {
      "name": "synapse_pyspark",
      "display_name": "Synapse PySpark"
    },
    "language_info": {
      "name": "python"
    }
  }
}