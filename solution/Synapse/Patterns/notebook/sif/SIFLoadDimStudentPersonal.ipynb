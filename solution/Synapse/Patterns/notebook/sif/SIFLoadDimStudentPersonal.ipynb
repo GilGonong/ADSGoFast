{
  "cells": [
    {
      "cell_type": "code",
      "source": [
        "SifDbName = \"sif\""
      ],
      "outputs": [
        {
          "output_type": "display_data",
          "data": {
            "application/vnd.livy.statement-meta+json": {
              "spark_pool": "adsdevsynspads",
              "session_id": 6,
              "statement_id": 2,
              "state": "finished",
              "livy_statement_state": "available",
              "queued_time": "2022-07-04T06:27:30.9804507Z",
              "session_start_time": null,
              "execution_start_time": "2022-07-04T06:27:31.3209392Z",
              "execution_finish_time": "2022-07-04T06:27:31.4771992Z"
            },
            "text/plain": "StatementMeta(adsdevsynspads, 6, 2, Finished, Available)"
          },
          "metadata": {}
        }
      ],
      "execution_count": 2,
      "metadata": {
        "jupyter": {
          "source_hidden": false,
          "outputs_hidden": false
        },
        "nteract": {
          "transient": {
            "deleting": false
          }
        },
        "tags": [
          "parameters"
        ]
      }
    },
    {
      "cell_type": "code",
      "source": [
        "spark.catalog.setCurrentDatabase(SifDbName)"
      ],
      "outputs": [
        {
          "output_type": "display_data",
          "data": {
            "application/vnd.livy.statement-meta+json": {
              "spark_pool": "adsdevsynspads",
              "session_id": 6,
              "statement_id": 3,
              "state": "finished",
              "livy_statement_state": "available",
              "queued_time": "2022-07-04T06:27:33.1984447Z",
              "session_start_time": null,
              "execution_start_time": "2022-07-04T06:27:33.3067409Z",
              "execution_finish_time": "2022-07-04T06:27:50.1894041Z"
            },
            "text/plain": "StatementMeta(adsdevsynspads, 6, 3, Finished, Available)"
          },
          "metadata": {}
        }
      ],
      "execution_count": 3,
      "metadata": {
        "jupyter": {
          "source_hidden": false,
          "outputs_hidden": false
        },
        "nteract": {
          "transient": {
            "deleting": false
          }
        }
      }
    },
    {
      "cell_type": "code",
      "source": [
        "from pyspark.sql.functions import *\r\n",
        "df_Raw = spark.sql(\"select * from studentpersonal\")\r\n",
        "df_RawWJ = df_Raw.withColumn('json',to_json (struct (col ('*')))).select(\"RefId\", \"json\")\r\n",
        "\r\n",
        "df_Out = df_RawWJ \\\r\n",
        ".withColumn('StateProvinceId',get_json_object(col('json'), '$.StateProvinceId')) \\\r\n",
        ".withColumn('NationalUniqueStudentIdentifier',get_json_object(col('json'), '$.NationalUniqueStudentIdentifier')) \\\r\n",
        ".withColumn('AlertMessages',get_json_object(col('json'), '$.AlertMessages')) \\\r\n",
        ".withColumn('MedicalAlertMessages',get_json_object(col('json'), '$.MedicalAlertMessages')) \\\r\n",
        ".withColumn('FirstName',get_json_object(col('json'), '$.PersonInfo.Name.GivenName')) \\\r\n",
        ".withColumn('LastName',get_json_object(col('json'), '$.PersonInfo.Name.FamilyName')) \\\r\n",
        ".withColumn('MiddleName',get_json_object(col('json'), '$.MiddleName')) \\\r\n",
        ".withColumn('OtherNames',get_json_object(col('json'), '$.PersonInfo.OtherNames')) \\\r\n",
        ".withColumn('ProjectedGraduationYear',get_json_object(col('json'), '$.ProjectedGraduationYear')) \\\r\n",
        ".withColumn('OnTimeGraduationYear',get_json_object(col('json'), '$.OnTimeGraduationYear')) \\\r\n",
        ".withColumn('GraduationDate',get_json_object(col('json'), '$.GraduationDate')) \\\r\n",
        ".withColumn('MostRecent',get_json_object(col('json'), '$.MostRecent')) \\\r\n",
        ".withColumn('AcceptableUsePolicy',get_json_object(col('json'), '$.AcceptableUsePolicy')) \\\r\n",
        ".withColumn('GiftedTalented',get_json_object(col('json'), '$.GiftedTalented')) \\\r\n",
        ".withColumn('EconomicDisadvantage',get_json_object(col('json'), '$.EconomicDisadvantage')) \\\r\n",
        ".withColumn('ESL',get_json_object(col('json'), '$.ESL')) \\\r\n",
        ".withColumn('ESLDateAssessed',get_json_object(col('json'), '$.ESLDateAssessed')) \\\r\n",
        ".withColumn('YoungCarersRole',get_json_object(col('json'), '$.YoungCarersRole')) \\\r\n",
        ".withColumn('Disability',get_json_object(col('json'), '$.Disability')) \\\r\n",
        ".withColumn('IntegrationAide',get_json_object(col('json'), '$.IntegrationAide')) \\\r\n",
        ".withColumn('EducationSupport',get_json_object(col('json'), '$.EducationSupport')) \\\r\n",
        ".withColumn('HomeSchooledStudent',get_json_object(col('json'), '$.HomeSchooledStudent')) \\\r\n",
        ".withColumn('IndependentStudent',get_json_object(col('json'), '$.IndependentStudent')) \\\r\n",
        ".withColumn('Sensitive',get_json_object(col('json'), '$.Sensitive')) \\\r\n",
        ".withColumn('OfflineDelivery',get_json_object(col('json'), '$.OfflineDelivery')) \\\r\n",
        ".withColumn('ESLSupport',get_json_object(col('json'), '$.ESLSupport')) \\\r\n",
        ".withColumn('PrePrimaryEducation',get_json_object(col('json'), '$.PrePrimaryEducation')) \\\r\n",
        ".withColumn('PrePrimaryEducationHours',get_json_object(col('json'), '$.PrePrimaryEducationHours')) \\\r\n",
        ".withColumn('FirstAUSchoolEnrollment',get_json_object(col('json'), '$.FirstAUSchoolEnrollment')) \\\r\n",
        ".withColumn('EmailList',get_json_object(col('json'), '$.PersonInfo.EmailList')) \\\r\n",
        ".withColumn('PhoneNumberList',get_json_object(col('json'), '$.PersonInfo.PhoneNumberList')) \\\r\n",
        ".withColumn('AddressList',get_json_object(col('json'), '$.PersonInfo.AddressList')) \\\r\n",
        ".withColumn('IndigenousStatus',get_json_object(col('json'), '$.PersonInfo.Demographics.IndigenousStatus')) \\\r\n",
        ".withColumn('Sex',get_json_object(col('json'), '$.PersonInfo.Demographics.Sex')) \\\r\n",
        ".withColumn('BirthDate',get_json_object(col('json'), '$.PersonInfo.Demographics.BirthDate')) \\\r\n",
        ".withColumn('DateOfDeath',get_json_object(col('json'), '$.PersonInfo.Demographics.DateOfDeath')) \\\r\n",
        ".withColumn('Deceased',get_json_object(col('json'), '$.PersonInfo.Demographics.Deceased')) \\\r\n",
        ".withColumn('BirthDateVerification',get_json_object(col('json'), '$.PersonInfo.Demographics.BirthDateVerification')) \\\r\n",
        ".withColumn('PlaceOfBirth',get_json_object(col('json'), '$.PersonInfo.Demographics.PlaceOfBirth')) \\\r\n",
        ".withColumn('StateOfBirth',get_json_object(col('json'), '$.PersonInfo.Demographics.StateOfBirth')) \\\r\n",
        ".withColumn('CountryOfBirth',get_json_object(col('json'), '$.PersonInfo.Demographics.CountryOfBirth')) \\\r\n",
        ".withColumn('CountryOfCitizenship',get_json_object(col('json'), '$.PersonInfo.Demographics.CountriesOfCitizenship')) \\\r\n",
        ".withColumn('CountryOfResidency',get_json_object(col('json'), '$.PersonInfo.Demographics.CountriesOfResidency')) \\\r\n",
        ".withColumn('CountryArrivalDate',get_json_object(col('json'), '$.PersonInfo.Demographics.CountryArrivalDate')) \\\r\n",
        ".withColumn('AustralianCitizenshipStatus',get_json_object(col('json'), '$.PersonInfo.Demographics.AustralianCitizenshipStatus')) \\\r\n",
        ".withColumn('EnglishProficiency',get_json_object(col('json'), '$.PersonInfo.Demographics.EnglishProficiency.Code')) \\\r\n",
        ".withColumn('MainLanguageSpokenAtHome',get_json_object(col('json'), '$.PersonInfo.Demographics.LanguageList.Language[0].Code')) \\\r\n",
        ".withColumn('SecondLanguage',get_json_object(col('json'), '$.PersonInfo.Demographics.LanguageList.Language[1].Code')) \\\r\n",
        ".withColumn('OtherLanguage',get_json_object(col('json'), '$.PersonInfo.Demographics.LanguageList.Language[2].Code')) \\\r\n",
        ".withColumn('DwellingArrangement',get_json_object(col('json'), '$.PersonInfo.Demographics.DwellingArrangement.Code')) \\\r\n",
        ".withColumn('Religion',get_json_object(col('json'), '$.PersonInfo.Demographics.Religion.Code')) \\\r\n",
        ".withColumn('ReligiousEventList',get_json_object(col('json'), '$.PersonInfo.Demographics.ReligiousEventList')) \\\r\n",
        ".withColumn('ReligiousRegion',get_json_object(col('json'), '$.PersonInfo.Demographics.ReligiousRegion')) \\\r\n",
        ".withColumn('PermanentResident',get_json_object(col('json'), '$.PersonInfo.Demographics.PermanentResident')) \\\r\n",
        ".withColumn('VisaSubClass',get_json_object(col('json'), '$.PersonInfo.Demographics.VisaSubClass')) \\\r\n",
        ".withColumn('VisaStatisticalCode',get_json_object(col('json'), '$.PersonInfo.Demographics.VisaStatisticalCode')) \\\r\n",
        ".withColumn('VisaSubClassList',get_json_object(col('json'), '$.PersonInfo.Demographics.VisaSubClassList')) \\\r\n",
        ".withColumn('PassportNumber',get_json_object(col('json'), '$.PersonInfo.Demographics.Passport.Number')) \\\r\n",
        ".withColumn('PassportExpiryDate',get_json_object(col('json'), '$.PersonInfo.Demographics.Passport.ExpiryDate')) \\\r\n",
        ".withColumn('PassportCountry',get_json_object(col('json'), '$.PersonInfo.Demographics.Passport.Country')) \\\r\n",
        ".withColumn('LBOTE',get_json_object(col('json'), '$.LBOTE')) \\\r\n",
        ".withColumn('InterpreterRequired',get_json_object(col('json'), '$.InterpreterRequired')) \\\r\n",
        ".withColumn('ImmunisationCertificateStatus',get_json_object(col('json'), '$.ImmunisationCertificateStatus')) \\\r\n",
        ".withColumn('CulturalBackground',get_json_object(col('json'), '$.CulturalBackground')) \\\r\n",
        ".withColumn('MaritalStatus',get_json_object(col('json'), '$.MaritalStatus')) \\\r\n",
        ".withColumn('MedicareNumber',get_json_object(col('json'), '$.MedicareNumber')) \\\r\n",
        ".withColumn('MedicarePositionNumber',get_json_object(col('json'), '$.MedicarePositionNumber')) \\\r\n",
        ".withColumn('MedicareCardHolderName',get_json_object(col('json'), '$.MedicareCardHolderName')) \\\r\n",
        ".withColumn('PrivateHealthInsurance',get_json_object(col('json'), '$.PrivateHealthInsurance')) \\\r\n",
        ".select('RefId',\t'StateProvinceId',\t'NationalUniqueStudentIdentifier',\t'AlertMessages',\t'MedicalAlertMessages',\t'FirstName',\t'LastName',\t'MiddleName',\t'OtherNames',\t'ProjectedGraduationYear',\t'OnTimeGraduationYear',\t'GraduationDate',\t'MostRecent',\t'AcceptableUsePolicy',\t'GiftedTalented',\t'EconomicDisadvantage',\t'ESL',\t'ESLDateAssessed',\t'YoungCarersRole',\t'Disability',\t'IntegrationAide',\t'EducationSupport',\t'HomeSchooledStudent',\t'IndependentStudent',\t'Sensitive',\t'OfflineDelivery',\t'ESLSupport',\t'PrePrimaryEducation',\t'PrePrimaryEducationHours',\t'FirstAUSchoolEnrollment',\t'EmailList',\t'PhoneNumberList',\t'AddressList',\t'IndigenousStatus',\t'Sex',\t'BirthDate',\t'DateOfDeath',\t'Deceased',\t'BirthDateVerification',\t'PlaceOfBirth',\t'StateOfBirth',\t'CountryOfBirth',\t'CountryOfCitizenship',\t'CountryOfResidency',\t'CountryArrivalDate',\t'AustralianCitizenshipStatus',\t'EnglishProficiency',\t'MainLanguageSpokenAtHome', 'SecondLanguage', 'OtherLanguage',\t'DwellingArrangement',\t'Religion',\t'ReligiousEventList',\t'ReligiousRegion',\t'PermanentResident',\t'VisaSubClass',\t'VisaStatisticalCode',\t'VisaSubClassList',\t'PassportNumber', 'PassportExpiryDate', 'PassportCountry',\t'LBOTE',\t'InterpreterRequired',\t'ImmunisationCertificateStatus',\t'CulturalBackground',\t'MaritalStatus',\t'MedicareNumber',\t'MedicarePositionNumber',\t'MedicareCardHolderName',\t'PrivateHealthInsurance') \r\n",
        "\r\n",
        "\r\n"
      ],
      "outputs": [
        {
          "output_type": "display_data",
          "data": {
            "application/vnd.livy.statement-meta+json": {
              "spark_pool": "adsdevsynspads",
              "session_id": 6,
              "statement_id": 12,
              "state": "finished",
              "livy_statement_state": "available",
              "queued_time": "2022-07-04T06:48:43.7745108Z",
              "session_start_time": null,
              "execution_start_time": "2022-07-04T06:48:43.9333205Z",
              "execution_finish_time": "2022-07-04T06:48:45.775142Z"
            },
            "text/plain": "StatementMeta(adsdevsynspads, 6, 12, Finished, Available)"
          },
          "metadata": {}
        }
      ],
      "execution_count": 12,
      "metadata": {
        "jupyter": {
          "source_hidden": false,
          "outputs_hidden": false
        },
        "nteract": {
          "transient": {
            "deleting": false
          }
        }
      }
    },
    {
      "cell_type": "code",
      "source": [
        "df_Out.write.mode(\"overwrite\").saveAsTable(\"dm_studentpersonal\")"
      ],
      "outputs": [
        {
          "output_type": "display_data",
          "data": {
            "application/vnd.livy.statement-meta+json": {
              "spark_pool": "adsdevsynspads",
              "session_id": 6,
              "statement_id": 13,
              "state": "finished",
              "livy_statement_state": "available",
              "queued_time": "2022-07-04T06:48:47.3502998Z",
              "session_start_time": null,
              "execution_start_time": "2022-07-04T06:48:47.4784394Z",
              "execution_finish_time": "2022-07-04T06:48:51.4719122Z"
            },
            "text/plain": "StatementMeta(adsdevsynspads, 6, 13, Finished, Available)"
          },
          "metadata": {}
        }
      ],
      "execution_count": 13,
      "metadata": {
        "jupyter": {
          "source_hidden": false,
          "outputs_hidden": false
        },
        "nteract": {
          "transient": {
            "deleting": false
          }
        }
      }
    },
    {
      "cell_type": "code",
      "source": [
        "display(spark.sql(\"select * from dm_studentpersonal\"))"
      ],
      "outputs": [
        {
          "output_type": "display_data",
          "data": {
            "application/vnd.livy.statement-meta+json": {
              "spark_pool": "adsdevsynspads",
              "session_id": 6,
              "statement_id": 14,
              "state": "finished",
              "livy_statement_state": "available",
              "queued_time": "2022-07-04T06:48:53.1844642Z",
              "session_start_time": null,
              "execution_start_time": "2022-07-04T06:48:53.2966067Z",
              "execution_finish_time": "2022-07-04T06:48:55.1063027Z"
            },
            "text/plain": "StatementMeta(adsdevsynspads, 6, 14, Finished, Available)"
          },
          "metadata": {}
        },
        {
          "output_type": "display_data",
          "data": {
            "application/vnd.synapse.widget-view+json": {
              "widget_id": "ee768e87-8991-46a3-8893-ee970ea54e48",
              "widget_type": "Synapse.DataFrame"
            },
            "text/plain": "SynapseWidget(Synapse.DataFrame, ee768e87-8991-46a3-8893-ee970ea54e48)"
          },
          "metadata": {}
        }
      ],
      "execution_count": 14,
      "metadata": {
        "jupyter": {
          "source_hidden": false,
          "outputs_hidden": false
        },
        "nteract": {
          "transient": {
            "deleting": false
          }
        },
        "collapsed": false
      }
    }
  ],
  "metadata": {
    "kernelspec": {
      "name": "synapse_pyspark",
      "language": "Python",
      "display_name": "Synapse PySpark"
    },
    "language_info": {
      "name": "python"
    },
    "kernel_info": {
      "name": "synapse_pyspark"
    },
    "description": null,
    "save_output": true,
    "synapse_widget": {
      "version": "0.1",
      "state": {
        "ee768e87-8991-46a3-8893-ee970ea54e48": {
          "type": "Synapse.DataFrame",
          "sync_state": {
            "table": {
              "rows": [
                {
                  "0": "7C834EA9-EDA1-2090-347F-83297E1C290E",
                  "1": "ABC1234",
                  "2": "12345981",
                  "3": "{\"AlertMessage\":[{\"Type\":\"Legal\",\"value\":\"Mother is legal guardian\"}]}",
                  "4": "{\"MedicalAlertMessage\":[{\"Severity\":\"Severe\",\"value\":\"Student has Peanut Allergy\"},{\"Severity\":\"Moderate\",\"value\":\"Student has Diabetes\"}]}",
                  "5": "Marge",
                  "6": "Simpson",
                  "8": "{\"Name\":[{\"FamilyName\":\"Anderson\",\"FullName\":\"Samuel Anderson\",\"GivenName\":\"Samuel\",\"Type\":\"AKA\"},{\"FamilyName\":\"Rowinski\",\"FullName\":\"Sam Rowinski \",\"GivenName\":\"Sam\",\"Type\":\"PRF\"}]}",
                  "9": "2014",
                  "10": "2012",
                  "12": "{\"ClassCode\":\"English 7D\",\"FFPOS\":\"2\",\"FTE\":0.5,\"Homegroup\":\"7A\",\"HomeroomLocalId\":\"hr12345\",\"LocalCampusId\":\"D\",\"MembershipType\":\"02\",\"OtherEnrollmentSchoolACARAId\":\"VIC6273\",\"Parent1Language\":\"1201\",\"Parent2Language\":\"1201\",\"ReportingSchoolId\":\"VIC670\",\"SchoolACARAId\":\"VIC687\",\"SchoolLocalId\":\"S1234567\",\"YearLevel\":{\"Code\":\"P\"}}",
                  "13": "Y",
                  "15": "N",
                  "16": "Y",
                  "17": "2016-04-23",
                  "18": "N",
                  "19": "N",
                  "20": "N",
                  "21": "N",
                  "22": "N",
                  "23": "N",
                  "24": "N",
                  "30": "{\"Email\":[{\"Type\":\"01\",\"value\":\"Marge.Simpson@yahoo.com\"},{\"Type\":\"02\",\"value\":\"Marge.Simpson@gmail.com\"}]}",
                  "31": "{\"PhoneNumber\":[{\"Extension\":\"72289\",\"ListedStatus\":\"Y\",\"Number\":\"03 9637-2289\",\"Type\":\"0096\"},{\"ListedStatus\":\"N\",\"Number\":\"0412-345-678\",\"Type\":\"0888\"}]}",
                  "32": "{\"Address\":[{\"City\":\"Yarra Glenn\",\"Country\":\"1101\",\"PostalCode\":\"9999\",\"Role\":\"2382\",\"StateProvince\":\"VIC\",\"Street\":{\"Line1\":\"Unit1/10\",\"Line2\":\"Barkley Street\"},\"Type\":\"0123\"},{\"City\":\"Home Town\",\"Country\":\"1101\",\"PostalCode\":\"9999\",\"Role\":\"013A\",\"StateProvince\":\"WA\",\"Street\":{\"Line1\":\"34 Term Address Street\"},\"Type\":\"0123A\"}]}",
                  "33": "3",
                  "34": "1",
                  "35": "1990-09-26",
                  "38": "1004",
                  "39": "Clayton",
                  "40": "VIC",
                  "41": "1101",
                  "42": "{\"CountryOfCitizenship\":[\"8104\",\"1101\"]}",
                  "43": "{\"CountryOfResidency\":[\"8104\",\"1101\"]}",
                  "44": "1990-09-26",
                  "45": "1",
                  "46": "1",
                  "47": "0001",
                  "50": "1671",
                  "51": "2013",
                  "52": "{\"ReligiousEvent\":[{\"Date\":\"2000-09-01\",\"Type\":\"Baptism\"},{\"Date\":\"2009-12-24\",\"Type\":\"Christmas\"}]}",
                  "53": "The Religion Region",
                  "54": "P",
                  "55": "101",
                  "56": "05",
                  "57": "{\"VisaSubClass\":[{\"ATEExpiryDate\":\"2016-12-26\",\"ATEStartDate\":\"2017-12-26\",\"Code\":\"401\",\"VisaExpiryDate\":\"2019-07-25\",\"VisaStatisticalCode\":\"05\"}]}",
                  "58": "9",
                  "59": "2030-12-11",
                  "60": "4111"
                },
                {
                  "0": "9897466F-200E-4BC1-B9AE-D1507DA15CEF",
                  "1": "ABC1234",
                  "2": "12345981",
                  "3": "{\"AlertMessage\":[{\"Type\":\"Legal\",\"value\":\"Mother is legal guardian\"}]}",
                  "4": "{\"MedicalAlertMessage\":[{\"Severity\":\"Severe\",\"value\":\"Student has Peanut Allergy\"},{\"Severity\":\"Moderate\",\"value\":\"Student has Diabetes\"}]}",
                  "5": "Ned",
                  "6": "Flanders",
                  "8": "{\"Name\":[{\"FamilyName\":\"Anderson\",\"FullName\":\"Samuel Anderson\",\"GivenName\":\"Samuel\",\"Type\":\"AKA\"},{\"FamilyName\":\"Rowinski\",\"FullName\":\"Sam Rowinski \",\"GivenName\":\"Sam\",\"Type\":\"PRF\"}]}",
                  "9": "2014",
                  "10": "2012",
                  "12": "{\"ClassCode\":\"English 7D\",\"FFPOS\":\"2\",\"FTE\":0.5,\"Homegroup\":\"7A\",\"HomeroomLocalId\":\"hr12345\",\"LocalCampusId\":\"D\",\"MembershipType\":\"02\",\"OtherEnrollmentSchoolACARAId\":\"VIC6273\",\"Parent1Language\":\"1201\",\"Parent2Language\":\"1201\",\"ReportingSchoolId\":\"VIC670\",\"SchoolACARAId\":\"VIC687\",\"SchoolLocalId\":\"S1234567\",\"YearLevel\":{\"Code\":\"P\"}}",
                  "13": "Y",
                  "15": "N",
                  "16": "Y",
                  "17": "2016-04-23",
                  "18": "N",
                  "19": "N",
                  "20": "N",
                  "21": "N",
                  "22": "N",
                  "23": "N",
                  "24": "N",
                  "30": "{\"Email\":[{\"Type\":\"01\",\"value\":\"Ned.Flanders@yahoo.com\"},{\"Type\":\"02\",\"value\":\"Ned_Flanders@gmail.com\"}]}",
                  "31": "{\"PhoneNumber\":[{\"Extension\":\"72289\",\"ListedStatus\":\"Y\",\"Number\":\"03 9637-2289\",\"Type\":\"0096\"},{\"ListedStatus\":\"N\",\"Number\":\"0412-345-678\",\"Type\":\"0888\"}]}",
                  "32": "{\"Address\":[{\"City\":\"Yarra Glenn\",\"Country\":\"1101\",\"PostalCode\":\"9999\",\"Role\":\"2382\",\"StateProvince\":\"VIC\",\"Street\":{\"Line1\":\"Unit1/10\",\"Line2\":\"Barkley Street\"},\"Type\":\"0123\"},{\"City\":\"Home Town\",\"Country\":\"1101\",\"PostalCode\":\"9999\",\"Role\":\"013A\",\"StateProvince\":\"WA\",\"Street\":{\"Line1\":\"34 Term Address Street\"},\"Type\":\"0123A\"}]}",
                  "33": "3",
                  "34": "1",
                  "35": "1990-09-26",
                  "38": "1004",
                  "39": "Clayton",
                  "40": "VIC",
                  "41": "1101",
                  "42": "{\"CountryOfCitizenship\":[\"8104\",\"1101\"]}",
                  "43": "{\"CountryOfResidency\":[\"8104\",\"1101\"]}",
                  "44": "1990-09-26",
                  "45": "1",
                  "46": "1",
                  "47": "0001",
                  "50": "1671",
                  "51": "2013",
                  "52": "{\"ReligiousEvent\":[{\"Date\":\"2000-09-01\",\"Type\":\"Baptism\"},{\"Date\":\"2009-12-24\",\"Type\":\"Christmas\"}]}",
                  "53": "The Religion Region",
                  "54": "P",
                  "55": "101",
                  "56": "05",
                  "57": "{\"VisaSubClass\":[{\"ATEExpiryDate\":\"2016-12-26\",\"ATEStartDate\":\"2017-12-26\",\"Code\":\"401\",\"VisaExpiryDate\":\"2019-07-25\",\"VisaStatisticalCode\":\"05\"}]}",
                  "58": "9",
                  "59": "2030-12-11",
                  "60": "4111"
                },
                {
                  "0": "7C834EA9-EDA1-2090-347F-83297E1C290D",
                  "1": "ABC1234",
                  "2": "12345981",
                  "3": "{\"AlertMessage\":[{\"Type\":\"Legal\",\"value\":\"Mother is legal guardian\"}]}",
                  "4": "{\"MedicalAlertMessage\":[{\"Severity\":\"Severe\",\"value\":\"Student has Peanut Allergy\"},{\"Severity\":\"Moderate\",\"value\":\"Student has Diabetes\"}]}",
                  "5": "Ned",
                  "6": "Flanders",
                  "8": "{\"Name\":[{\"FamilyName\":\"Anderson\",\"FullName\":\"Samuel Anderson\",\"GivenName\":\"Samuel\",\"Type\":\"AKA\"},{\"FamilyName\":\"Rowinski\",\"FullName\":\"Sam Rowinski \",\"GivenName\":\"Sam\",\"Type\":\"PRF\"}]}",
                  "9": "2014",
                  "10": "2012",
                  "12": "{\"ClassCode\":\"English 7D\",\"FFPOS\":\"2\",\"FTE\":0.5,\"Homegroup\":\"7A\",\"HomeroomLocalId\":\"hr12345\",\"LocalCampusId\":\"D\",\"MembershipType\":\"02\",\"OtherEnrollmentSchoolACARAId\":\"VIC6273\",\"Parent1Language\":\"1201\",\"Parent2Language\":\"1201\",\"ReportingSchoolId\":\"VIC670\",\"SchoolACARAId\":\"VIC687\",\"SchoolLocalId\":\"S1234567\",\"YearLevel\":{\"Code\":\"P\"}}",
                  "13": "Y",
                  "15": "N",
                  "16": "Y",
                  "17": "2016-04-23",
                  "18": "N",
                  "19": "N",
                  "20": "N",
                  "21": "N",
                  "22": "N",
                  "23": "N",
                  "24": "N",
                  "30": "{\"Email\":[{\"Type\":\"01\",\"value\":\"Ned.Flanders@yahoo.com\"},{\"Type\":\"02\",\"value\":\"Ned_Flanders@gmail.com\"}]}",
                  "31": "{\"PhoneNumber\":[{\"Extension\":\"72289\",\"ListedStatus\":\"Y\",\"Number\":\"03 9637-2289\",\"Type\":\"0096\"},{\"ListedStatus\":\"N\",\"Number\":\"0412-345-678\",\"Type\":\"0888\"}]}",
                  "32": "{\"Address\":[{\"City\":\"Yarra Glenn\",\"Country\":\"1101\",\"PostalCode\":\"9999\",\"Role\":\"2382\",\"StateProvince\":\"VIC\",\"Street\":{\"Line1\":\"Unit1/10\",\"Line2\":\"Barkley Street\"},\"Type\":\"0123\"},{\"City\":\"Home Town\",\"Country\":\"1101\",\"PostalCode\":\"9999\",\"Role\":\"013A\",\"StateProvince\":\"WA\",\"Street\":{\"Line1\":\"34 Term Address Street\"},\"Type\":\"0123A\"}]}",
                  "33": "3",
                  "34": "1",
                  "35": "1990-09-26",
                  "38": "1004",
                  "39": "Clayton",
                  "40": "VIC",
                  "41": "1101",
                  "42": "{\"CountryOfCitizenship\":[\"8104\",\"1101\"]}",
                  "43": "{\"CountryOfResidency\":[\"8104\",\"1101\"]}",
                  "44": "1990-09-26",
                  "45": "1",
                  "46": "1",
                  "47": "0001",
                  "50": "1671",
                  "51": "2013",
                  "52": "{\"ReligiousEvent\":[{\"Date\":\"2000-09-01\",\"Type\":\"Baptism\"},{\"Date\":\"2009-12-24\",\"Type\":\"Christmas\"}]}",
                  "53": "The Religion Region",
                  "54": "P",
                  "55": "101",
                  "56": "05",
                  "57": "{\"VisaSubClass\":[{\"ATEExpiryDate\":\"2016-12-26\",\"ATEStartDate\":\"2017-12-26\",\"Code\":\"401\",\"VisaExpiryDate\":\"2019-07-25\",\"VisaStatisticalCode\":\"05\"}]}",
                  "58": "9",
                  "59": "2030-12-11",
                  "60": "4111"
                },
                {
                  "0": "7C834EA9-EDA1-2090-347F-83297E1C290C",
                  "1": "ABC1234",
                  "2": "12345678",
                  "3": "{\"AlertMessage\":[{\"Type\":\"Legal\",\"value\":\"Mother is legal guardian\"}]}",
                  "4": "{\"MedicalAlertMessage\":[{\"Severity\":\"Severe\",\"value\":\"Student has Peanut Allergy\"},{\"Severity\":\"Moderate\",\"value\":\"Student has Diabetes\"}]}",
                  "5": "Bob",
                  "6": "Sideshow",
                  "8": "{\"Name\":[{\"FamilyName\":\"Anderson\",\"FullName\":\"Samuel Anderson\",\"GivenName\":\"Samuel\",\"Type\":\"AKA\"},{\"FamilyName\":\"Rowinski\",\"FullName\":\"Sam Rowinski \",\"GivenName\":\"Sam\",\"Type\":\"PRF\"}]}",
                  "9": "2014",
                  "10": "2012",
                  "12": "{\"ClassCode\":\"English 7D\",\"FFPOS\":\"2\",\"FTE\":0.5,\"Homegroup\":\"7A\",\"HomeroomLocalId\":\"hr12345\",\"LocalCampusId\":\"D\",\"MembershipType\":\"02\",\"OtherEnrollmentSchoolACARAId\":\"VIC6273\",\"Parent1Language\":\"1201\",\"Parent2Language\":\"1201\",\"ReportingSchoolId\":\"VIC670\",\"SchoolACARAId\":\"VIC687\",\"SchoolLocalId\":\"S1234567\",\"YearLevel\":{\"Code\":\"P\"}}",
                  "13": "Y",
                  "15": "N",
                  "16": "Y",
                  "17": "2016-04-23",
                  "18": "N",
                  "19": "N",
                  "20": "N",
                  "21": "N",
                  "22": "N",
                  "23": "N",
                  "24": "N",
                  "30": "{\"Email\":[{\"Type\":\"01\",\"value\":\"Sideshow.Bob@yahoo.com\"},{\"Type\":\"02\",\"value\":\"freddy@gmail.com\"}]}",
                  "31": "{\"PhoneNumber\":[{\"Extension\":\"72289\",\"ListedStatus\":\"Y\",\"Number\":\"03 9637-2289\",\"Type\":\"0096\"},{\"ListedStatus\":\"N\",\"Number\":\"0412-345-678\",\"Type\":\"0888\"}]}",
                  "32": "{\"Address\":[{\"City\":\"Yarra Glenn\",\"Country\":\"1101\",\"PostalCode\":\"9999\",\"Role\":\"2382\",\"StateProvince\":\"VIC\",\"Street\":{\"Line1\":\"Unit1/10\",\"Line2\":\"Barkley Street\"},\"Type\":\"0123\"},{\"City\":\"Home Town\",\"Country\":\"1101\",\"PostalCode\":\"9999\",\"Role\":\"013A\",\"StateProvince\":\"WA\",\"Street\":{\"Line1\":\"34 Term Address Street\"},\"Type\":\"0123A\"}]}",
                  "33": "3",
                  "34": "1",
                  "35": "1990-09-26",
                  "38": "1004",
                  "39": "Clayton",
                  "40": "VIC",
                  "41": "1101",
                  "42": "{\"CountryOfCitizenship\":[\"8104\",\"1101\"]}",
                  "43": "{\"CountryOfResidency\":[\"8104\",\"1101\"]}",
                  "44": "1990-09-26",
                  "45": "1",
                  "46": "1",
                  "47": "0001",
                  "50": "1671",
                  "51": "2013",
                  "52": "{\"ReligiousEvent\":[{\"Date\":\"2000-09-01\",\"Type\":\"Baptism\"},{\"Date\":\"2009-12-24\",\"Type\":\"Christmas\"}]}",
                  "53": "The Religion Region",
                  "54": "P",
                  "55": "101",
                  "56": "05",
                  "57": "{\"VisaSubClass\":[{\"ATEExpiryDate\":\"2016-12-26\",\"ATEStartDate\":\"2017-12-26\",\"Code\":\"401\",\"VisaExpiryDate\":\"2019-07-25\",\"VisaStatisticalCode\":\"05\"}]}",
                  "58": "9",
                  "59": "2030-12-11",
                  "60": "4111"
                }
              ],
              "schema": [
                {
                  "key": "0",
                  "name": "RefId",
                  "type": "string"
                },
                {
                  "key": "1",
                  "name": "StateProvinceId",
                  "type": "string"
                },
                {
                  "key": "2",
                  "name": "NationalUniqueStudentIdentifier",
                  "type": "string"
                },
                {
                  "key": "3",
                  "name": "AlertMessages",
                  "type": "string"
                },
                {
                  "key": "4",
                  "name": "MedicalAlertMessages",
                  "type": "string"
                },
                {
                  "key": "5",
                  "name": "FirstName",
                  "type": "string"
                },
                {
                  "key": "6",
                  "name": "LastName",
                  "type": "string"
                },
                {
                  "key": "7",
                  "name": "MiddleName",
                  "type": "string"
                },
                {
                  "key": "8",
                  "name": "OtherNames",
                  "type": "string"
                },
                {
                  "key": "9",
                  "name": "ProjectedGraduationYear",
                  "type": "string"
                },
                {
                  "key": "10",
                  "name": "OnTimeGraduationYear",
                  "type": "string"
                },
                {
                  "key": "11",
                  "name": "GraduationDate",
                  "type": "string"
                },
                {
                  "key": "12",
                  "name": "MostRecent",
                  "type": "string"
                },
                {
                  "key": "13",
                  "name": "AcceptableUsePolicy",
                  "type": "string"
                },
                {
                  "key": "14",
                  "name": "GiftedTalented",
                  "type": "string"
                },
                {
                  "key": "15",
                  "name": "EconomicDisadvantage",
                  "type": "string"
                },
                {
                  "key": "16",
                  "name": "ESL",
                  "type": "string"
                },
                {
                  "key": "17",
                  "name": "ESLDateAssessed",
                  "type": "string"
                },
                {
                  "key": "18",
                  "name": "YoungCarersRole",
                  "type": "string"
                },
                {
                  "key": "19",
                  "name": "Disability",
                  "type": "string"
                },
                {
                  "key": "20",
                  "name": "IntegrationAide",
                  "type": "string"
                },
                {
                  "key": "21",
                  "name": "EducationSupport",
                  "type": "string"
                },
                {
                  "key": "22",
                  "name": "HomeSchooledStudent",
                  "type": "string"
                },
                {
                  "key": "23",
                  "name": "IndependentStudent",
                  "type": "string"
                },
                {
                  "key": "24",
                  "name": "Sensitive",
                  "type": "string"
                },
                {
                  "key": "25",
                  "name": "OfflineDelivery",
                  "type": "string"
                },
                {
                  "key": "26",
                  "name": "ESLSupport",
                  "type": "string"
                },
                {
                  "key": "27",
                  "name": "PrePrimaryEducation",
                  "type": "string"
                },
                {
                  "key": "28",
                  "name": "PrePrimaryEducationHours",
                  "type": "string"
                },
                {
                  "key": "29",
                  "name": "FirstAUSchoolEnrollment",
                  "type": "string"
                },
                {
                  "key": "30",
                  "name": "EmailList",
                  "type": "string"
                },
                {
                  "key": "31",
                  "name": "PhoneNumberList",
                  "type": "string"
                },
                {
                  "key": "32",
                  "name": "AddressList",
                  "type": "string"
                },
                {
                  "key": "33",
                  "name": "IndigenousStatus",
                  "type": "string"
                },
                {
                  "key": "34",
                  "name": "Sex",
                  "type": "string"
                },
                {
                  "key": "35",
                  "name": "BirthDate",
                  "type": "string"
                },
                {
                  "key": "36",
                  "name": "DateOfDeath",
                  "type": "string"
                },
                {
                  "key": "37",
                  "name": "Deceased",
                  "type": "string"
                },
                {
                  "key": "38",
                  "name": "BirthDateVerification",
                  "type": "string"
                },
                {
                  "key": "39",
                  "name": "PlaceOfBirth",
                  "type": "string"
                },
                {
                  "key": "40",
                  "name": "StateOfBirth",
                  "type": "string"
                },
                {
                  "key": "41",
                  "name": "CountryOfBirth",
                  "type": "string"
                },
                {
                  "key": "42",
                  "name": "CountryOfCitizenship",
                  "type": "string"
                },
                {
                  "key": "43",
                  "name": "CountryOfResidency",
                  "type": "string"
                },
                {
                  "key": "44",
                  "name": "CountryArrivalDate",
                  "type": "string"
                },
                {
                  "key": "45",
                  "name": "AustralianCitizenshipStatus",
                  "type": "string"
                },
                {
                  "key": "46",
                  "name": "EnglishProficiency",
                  "type": "string"
                },
                {
                  "key": "47",
                  "name": "MainLanguageSpokenAtHome",
                  "type": "string"
                },
                {
                  "key": "48",
                  "name": "SecondLanguage",
                  "type": "string"
                },
                {
                  "key": "49",
                  "name": "OtherLanguage",
                  "type": "string"
                },
                {
                  "key": "50",
                  "name": "DwellingArrangement",
                  "type": "string"
                },
                {
                  "key": "51",
                  "name": "Religion",
                  "type": "string"
                },
                {
                  "key": "52",
                  "name": "ReligiousEventList",
                  "type": "string"
                },
                {
                  "key": "53",
                  "name": "ReligiousRegion",
                  "type": "string"
                },
                {
                  "key": "54",
                  "name": "PermanentResident",
                  "type": "string"
                },
                {
                  "key": "55",
                  "name": "VisaSubClass",
                  "type": "string"
                },
                {
                  "key": "56",
                  "name": "VisaStatisticalCode",
                  "type": "string"
                },
                {
                  "key": "57",
                  "name": "VisaSubClassList",
                  "type": "string"
                },
                {
                  "key": "58",
                  "name": "PassportNumber",
                  "type": "string"
                },
                {
                  "key": "59",
                  "name": "PassportExpiryDate",
                  "type": "string"
                },
                {
                  "key": "60",
                  "name": "PassportCountry",
                  "type": "string"
                },
                {
                  "key": "61",
                  "name": "LBOTE",
                  "type": "string"
                },
                {
                  "key": "62",
                  "name": "InterpreterRequired",
                  "type": "string"
                },
                {
                  "key": "63",
                  "name": "ImmunisationCertificateStatus",
                  "type": "string"
                },
                {
                  "key": "64",
                  "name": "CulturalBackground",
                  "type": "string"
                },
                {
                  "key": "65",
                  "name": "MaritalStatus",
                  "type": "string"
                },
                {
                  "key": "66",
                  "name": "MedicareNumber",
                  "type": "string"
                },
                {
                  "key": "67",
                  "name": "MedicarePositionNumber",
                  "type": "string"
                },
                {
                  "key": "68",
                  "name": "MedicareCardHolderName",
                  "type": "string"
                },
                {
                  "key": "69",
                  "name": "PrivateHealthInsurance",
                  "type": "string"
                }
              ],
              "truncated": false
            },
            "isSummary": false,
            "language": "scala"
          },
          "persist_state": {
            "view": {
              "type": "details",
              "tableOptions": {},
              "chartOptions": {
                "chartType": "bar",
                "aggregationType": "count",
                "categoryFieldKeys": [
                  "0"
                ],
                "seriesFieldKeys": [
                  "0"
                ],
                "isStacked": false
              }
            }
          }
        }
      }
    }
  },
  "nbformat": 4,
  "nbformat_minor": 2
}