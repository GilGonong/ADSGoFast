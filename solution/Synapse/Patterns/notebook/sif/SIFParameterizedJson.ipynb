{
  "cells": [
    {
      "cell_type": "code",
      "source": [
        "TaskObject = \"{\\\"TaskInstanceId\\\":53,\\\"TaskMasterId\\\":1,\\\"TaskStatus\\\":\\\"InProgress\\\",\\\"TaskType\\\":\\\"Execute Synapse Notebook\\\",\\\"Enabled\\\":1,\\\"ExecutionUid\\\":\\\"dc872650-b992-4cae-9ae2-c714c95563ee\\\",\\\"NumberOfRetries\\\":2,\\\"DegreeOfCopyParallelism\\\":1,\\\"KeyVaultBaseUrl\\\":\\\"https://ads-dev-kv-ads-v3n3.vault.azure.net/\\\",\\\"ScheduleMasterId\\\":\\\"-4\\\",\\\"TaskGroupConcurrency\\\":\\\"10\\\",\\\"TaskGroupPriority\\\":0,\\\"TaskExecutionType\\\":\\\"ADF\\\",\\\"Source\\\":{\\\"System\\\":{\\\"SystemId\\\":-4,\\\"SystemServer\\\":\\\"https://adsdevdlsadsv3n3adsl.dfs.core.windows.net\\\",\\\"AuthenticationType\\\":\\\"MSI\\\",\\\"Type\\\":\\\"ADLS\\\",\\\"Username\\\":null,\\\"Container\\\":\\\"datalakeraw\\\"},\\\"Instance\\\":{\\\"SourceRelativePath\\\":\\\"/samples/sif/\\\",\\\"TargetRelativePath\\\":\\\"/samples/sif/StudentPersonal/\\\"},\\\"DataFileName\\\":\\\"StudentPersonal.json\\\",\\\"RelativePath\\\":\\\"/samples/sif/\\\",\\\"SchemaFileName\\\":\\\"\\\",\\\"Type\\\":\\\"Notebook-Optional\\\",\\\"WriteSchemaToPurview\\\":\\\"Disabled\\\"},\\\"Target\\\":{\\\"System\\\":{\\\"SystemId\\\":-4,\\\"SystemServer\\\":\\\"https://adsdevdlsadsv3n3adsl.dfs.core.windows.net\\\",\\\"AuthenticationType\\\":\\\"MSI\\\",\\\"Type\\\":\\\"ADLS\\\",\\\"Username\\\":null,\\\"Container\\\":\\\"datalakeraw\\\"},\\\"Instance\\\":{\\\"SourceRelativePath\\\":\\\"/samples/sif/\\\",\\\"TargetRelativePath\\\":\\\"/samples/sif/StudentPersonal/\\\"},\\\"DataFileName\\\":\\\"StudentPersonal.parquet\\\",\\\"RelativePath\\\":\\\"/samples/sif/StudentPersonal/\\\",\\\"SchemaFileName\\\":\\\"\\\",\\\"Type\\\":\\\"Notebook-Optional\\\",\\\"WriteSchemaToPurview\\\":\\\"Disabled\\\"},\\\"TMOptionals\\\":{\\\"CustomDefinitions\\\":\\\"\\\",\\\"ExecuteNotebook\\\":\\\"SIFParameterizedJson\\\",\\\"Purview\\\":\\\"Disabled\\\",\\\"QualifiedIDAssociation\\\":\\\"TaskMasterId\\\",\\\"UseNotebookActivity\\\":\\\"Enabled\\\"}}\"\r\n",
        "\r\n"
      ],
      "outputs": [
        {
          "output_type": "display_data",
          "data": {
            "application/vnd.livy.statement-meta+json": {
              "spark_pool": "adsdevsynspads",
              "session_id": 18,
              "statement_id": 2,
              "state": "finished",
              "livy_statement_state": "available",
              "queued_time": "2022-05-30T07:27:17.5716681Z",
              "session_start_time": null,
              "execution_start_time": "2022-05-30T07:27:17.6819622Z",
              "execution_finish_time": "2022-05-30T07:27:17.8294442Z"
            },
            "text/plain": "StatementMeta(adsdevsynspads, 18, 2, Finished, Available)"
          },
          "metadata": {}
        }
      ],
      "execution_count": 118,
      "metadata": {
        "tags": [
          "parameters"
        ]
      }
    },
    {
      "cell_type": "code",
      "source": [
        "TaskObject"
      ],
      "outputs": [
        {
          "output_type": "display_data",
          "data": {
            "application/vnd.livy.statement-meta+json": {
              "spark_pool": "adsdevsynspads",
              "session_id": 18,
              "statement_id": 3,
              "state": "finished",
              "livy_statement_state": "available",
              "queued_time": "2022-05-30T07:27:18.8386928Z",
              "session_start_time": null,
              "execution_start_time": "2022-05-30T07:27:18.9441006Z",
              "execution_finish_time": "2022-05-30T07:27:19.0965037Z"
            },
            "text/plain": "StatementMeta(adsdevsynspads, 18, 3, Finished, Available)"
          },
          "metadata": {}
        },
        {
          "output_type": "display_data",
          "data": {
            "text/plain": "'{\"TaskInstanceId\":53,\"TaskMasterId\":1,\"TaskStatus\":\"InProgress\",\"TaskType\":\"Execute Synapse Notebook\",\"Enabled\":1,\"ExecutionUid\":\"dc872650-b992-4cae-9ae2-c714c95563ee\",\"NumberOfRetries\":2,\"DegreeOfCopyParallelism\":1,\"KeyVaultBaseUrl\":\"https://ads-dev-kv-ads-v3n3.vault.azure.net/\",\"ScheduleMasterId\":\"-4\",\"TaskGroupConcurrency\":\"10\",\"TaskGroupPriority\":0,\"TaskExecutionType\":\"ADF\",\"Source\":{\"System\":{\"SystemId\":-4,\"SystemServer\":\"https://adsdevdlsadsv3n3adsl.dfs.core.windows.net\",\"AuthenticationType\":\"MSI\",\"Type\":\"ADLS\",\"Username\":null,\"Container\":\"datalakeraw\"},\"Instance\":{\"SourceRelativePath\":\"/samples/sif/\",\"TargetRelativePath\":\"/samples/sif/StudentPersonal/\"},\"DataFileName\":\"StudentPersonal.json\",\"RelativePath\":\"/samples/sif/\",\"SchemaFileName\":\"\",\"Type\":\"Notebook-Optional\",\"WriteSchemaToPurview\":\"Disabled\"},\"Target\":{\"System\":{\"SystemId\":-4,\"SystemServer\":\"https://adsdevdlsadsv3n3adsl.dfs.core.windows.net\",\"AuthenticationType\":\"MSI\",\"Type\":\"ADLS\",\"Username\":null,\"Container\":\"datalakeraw\"},\"Instance\":{\"SourceRelativePath\":\"/samples/sif/\",\"TargetRelativePath\":\"/samples/sif/StudentPersonal/\"},\"DataFileName\":\"StudentPersonal.parquet\",\"RelativePath\":\"/samples/sif/StudentPersonal/\",\"SchemaFileName\":\"\",\"Type\":\"Notebook-Optional\",\"WriteSchemaToPurview\":\"Disabled\"},\"TMOptionals\":{\"CustomDefinitions\":\"\",\"ExecuteNotebook\":\"SIFParameterizedJson\",\"Purview\":\"Disabled\",\"QualifiedIDAssociation\":\"TaskMasterId\",\"UseNotebookActivity\":\"Enabled\"}}'"
          },
          "metadata": {}
        }
      ],
      "execution_count": 119,
      "metadata": {
        "jupyter": {
          "source_hidden": false,
          "outputs_hidden": false
        },
        "nteract": {
          "transient": {
            "deleting": false
          }
        }
      }
    },
    {
      "cell_type": "code",
      "source": [
        "import random\r\n",
        "import json\r\n",
        "from pyspark.sql import Row\r\n",
        "from pyspark.sql.types import *\r\n",
        "from pyspark.sql.functions import *\r\n",
        "\r\n",
        "session_id = random.randint(0,1000000)\r\n",
        "#invalid source\r\n",
        "##TaskObject = \"{\\\"TaskInstanceId\\\":1,\\\"TaskMasterId\\\":2,\\\"TaskStatus\\\":\\\"InProgress\\\",\\\"TaskType\\\":\\\"TestTask Type Name\\\",\\\"Enabled\\\":1,\\\"ExecutionUid\\\":\\\"8448eabb-9ba4-4779-865b-29e973431273\\\",\\\"NumberOfRetries\\\":0,\\\"DegreeOfCopyParallelism\\\":1,\\\"KeyVaultBaseUrl\\\":\\\"https://ark-stg-kv-ads-irud.vault.azure.net/\\\",\\\"ScheduleMasterId\\\":\\\"-4\\\",\\\"TaskGroupConcurrency\\\":\\\"10\\\",\\\"TaskGroupPriority\\\":0,\\\"TaskExecutionType\\\":\\\"ADF\\\",\\\"ExecutionEngine\\\":{\\\"EngineId\\\":-1,\\\"EngineName\\\":\\\"ark-stg-adf-ads-irud\\\",\\\"SystemType\\\":\\\"Datafactory\\\",\\\"ResourceGroup\\\":\\\"dlzdev04\\\",\\\"SubscriptionId\\\":\\\"ed1206e0-17c7-4bc2-ad4b-f8d4dab9284f\\\",\\\"ADFPipeline\\\":\\\"GPL_AzureSqlTable_NA_AzureBlobFS_Parquet_Azure\\\",\\\"EngineJson\\\":\\\"{}\\\",\\\"TaskDatafactoryIR\\\":\\\"Azure\\\",\\\"JsonProperties\\\":{}},\\\"Source\\\":{\\\"System\\\":{\\\"SystemId\\\":-8,\\\"SystemServer\\\":\\\"https://arkstgdlsadsirudadsl.dfs.core.windows.net\\\",\\\"AuthenticationType\\\":\\\"MSI\\\",\\\"Type\\\":\\\"ADLS\\\",\\\"Username\\\":null,\\\"Container\\\":\\\"datalakelanding\\\"},\\\"Instance\\\":{\\\"TargetRelativePath\\\":\\\"\\\"},\\\"DataFileName\\\":\\\"TestFile.parquet\\\",\\\"RelativePath\\\":\\\"\\\",\\\"SchemaFileName\\\":\\\"TestFile.json\\\"},\\\"Target\\\":{\\\"System\\\":{\\\"SystemId\\\":-8,\\\"SystemServer\\\":\\\"https://arkstgdlsadsirudadsl.dfs.core.windows.net\\\",\\\"AuthenticationType\\\":\\\"MSI\\\",\\\"Type\\\":\\\"ADLS\\\",\\\"Username\\\":null,\\\"Container\\\":\\\"datalakelanding\\\"},\\\"Instance\\\":{\\\"TargetRelativePath\\\":\\\"\\\"},\\\"DataFileName\\\":\\\"TestFile.parquet\\\",\\\"RelativePath\\\":\\\"\\\",\\\"SchemaFileName\\\":\\\"TestFile.json\\\",\\\"Type\\\":\\\"Parquet\\\"}}\"\r\n",
        "#valid source\r\n",
        "#TaskObject = \"{\\\"TaskInstanceId\\\":1,\\\"TaskMasterId\\\":2,\\\"TaskStatus\\\":\\\"InProgress\\\",\\\"TaskType\\\":\\\"TestTask Type Name\\\", \\\"Enabled\\\":1,\\\"ExecutionUid\\\":\\\"8448eabb-9ba4-4779-865b-29e973431273\\\",\\\"NumberOfRetries\\\":0,\\\"DegreeOfCopyParallelism\\\":1, \\\"KeyVaultBaseUrl\\\":\\\"https://ads-dev-kv-ads-ic038069.vault.azure.net/\\\",\\\"ScheduleMasterId\\\":\\\"-4\\\",\\\"TaskGroupConcurrency\\\":\\\"10\\\", \\\"TaskGroupPriority\\\":0,\\\"TaskExecutionType\\\":\\\"ADF\\\",\\\"ExecutionEngine\\\":{\\\"EngineId\\\":-1,\\\"EngineName\\\":\\\"ads-dev-kv-ads-ic038069\\\", \\\"SystemType\\\":\\\"Microsoft.Synapse/workspaces\\\",\\\"ResourceGroup\\\":\\\"sifgofast\\\",\\\"SubscriptionId\\\":\\\"cd486ba9-eef3-466d-b16c-7f1b2941ae9d\\\", \\\"ADFPipeline\\\":\\\"GPL_AzureSqlTable_NA_AzureBlobFS_Parquet_Azure\\\",\\\"EngineJson\\\":\\\"{}\\\",\\\"TaskDatafactoryIR\\\":\\\"Azure\\\", \\\"JsonProperties\\\":{}},\\\"Source\\\":{\\\"System\\\":{\\\"SystemId\\\":-8,\\\"SystemServer\\\":\\\"https://adsdevdlsadsic03adsl.blob.core.windows.net\\\", \\\"AuthenticationType\\\":\\\"MSI\\\",\\\"Type\\\":\\\"ADLS\\\",\\\"Username\\\":null,\\\"Container\\\":\\\"adsdevdlsadsic03\\\"},\\\"Instance\\\":\\\"\\\",{\\\"TargetRelativePath\\\":\\\"synapse/sif\\\"}, \\\"DataFileName\\\":\\\"StudentPersonal.parquet\\\",\\\"SourceRelativePath\\\":\\\"synapse/sif\\\",\\\"SchemaFileName\\\":\\\"StudentPersonal.json\\\",\\\"Type\\\":\\\"Parquet\\\"}, \\\"Target\\\":{\\\"System\\\":{\\\"SystemId\\\":-8,\\\"SystemServer\\\":\\\"https://adsdevdlsadsic03adsl.blob.core.windows.net\\\", \\\"AuthenticationType\\\":\\\"MSI\\\",\\\"Type\\\":\\\"ABS\\\",\\\"Username\\\":null,\\\"Container\\\":\\\"adsdevdlsadsic03\\\"}, \\\"Instance\\\":{\\\"TargetRelativePath\\\":\\\"\\\"},\\\"DataFileName\\\":\\\"StudentPersonal.parquet\\\",\\\"SourceRelativePath\\\":\\\"synapse\\/sif\\\", \\\"SchemaFileName\\\":\\\"StudentPersonal.json\\\",\\\"Type\\\":\\\"Parquet\\\"}}\"\r\n",
        "TaskDict = {}\r\n",
        "OutputDict = {}\r\n",
        "TaskObjectJson = json.loads(TaskObject)\r\n",
        "\r\n",
        "\r\n",
        "\r\n",
        "##we want to delete EngineJson as it causes issues when converting back to a json and it is not needed as its properties are within JsonProperties as children\r\n",
        "try:\r\n",
        "    del TaskObjectJson['ExecutionEngine']['EngineJson']\r\n",
        "except:\r\n",
        "    print(\"No EngineJson Found\")\r\n",
        "\r\n",
        "Source = TaskObjectJson['Source']['System']['Container'] + \"@\" + TaskObjectJson['Source']['System']['SystemServer'].replace(\"https://\",\"\").replace(\"blob\",\"dfs\") + \"/\"\r\n",
        "Source = Source.replace('///', '/')\r\n",
        "Source = Source.replace('//', '/')\r\n",
        "print(Source)\r\n",
        "Source = Source + TaskObjectJson['Source'][\"Instance\"]['SourceRelativePath']\r\n",
        "print(Source)\r\n",
        "Source = Source  +\"/\" + TaskObjectJson['Source']['DataFileName'] \r\n",
        "print(Source)\r\n",
        "Source = Source.replace('///', '/')\r\n",
        "Source = Source.replace('//', '/')\r\n",
        "print(Source)\r\n",
        "Source = \"abfss://\" + Source \r\n",
        "print(Source)"
      ],
      "outputs": [
        {
          "output_type": "display_data",
          "data": {
            "application/vnd.livy.statement-meta+json": {
              "spark_pool": "adsdevsynspads",
              "session_id": 18,
              "statement_id": 4,
              "state": "finished",
              "livy_statement_state": "available",
              "queued_time": "2022-05-30T07:27:20.5938622Z",
              "session_start_time": null,
              "execution_start_time": "2022-05-30T07:27:20.7036817Z",
              "execution_finish_time": "2022-05-30T07:27:20.9085751Z"
            },
            "text/plain": "StatementMeta(adsdevsynspads, 18, 4, Finished, Available)"
          },
          "metadata": {}
        },
        {
          "output_type": "stream",
          "name": "stdout",
          "text": [
            "No EngineJson Found\ndatalakeraw@adsdevdlsadsv3n3adsl.dfs.core.windows.net/\ndatalakeraw@adsdevdlsadsv3n3adsl.dfs.core.windows.net//samples/sif/\ndatalakeraw@adsdevdlsadsv3n3adsl.dfs.core.windows.net//samples/sif//StudentPersonal.json\ndatalakeraw@adsdevdlsadsv3n3adsl.dfs.core.windows.net/samples/sif/StudentPersonal.json\nabfss://datalakeraw@adsdevdlsadsv3n3adsl.dfs.core.windows.net/samples/sif/StudentPersonal.json"
          ]
        }
      ],
      "execution_count": 120,
      "metadata": {
        "jupyter": {
          "source_hidden": false,
          "outputs_hidden": false
        },
        "nteract": {
          "transient": {
            "deleting": false
          }
        }
      }
    },
    {
      "cell_type": "code",
      "source": [
        "Target = TaskObjectJson['Target']['System']['Container'] + \"@\" + TaskObjectJson['Target']['System']['SystemServer'].replace(\"https://\",\"\").replace(\"blob\",\"dfs\") + \"/\"\r\n",
        "Target = Target.replace('///', '/')\r\n",
        "Target = Target.replace('//', '/')\r\n",
        "print(Target)\r\n",
        "Target = Target + TaskObjectJson['Target'][\"Instance\"]['TargetRelativePath']\r\n",
        "Target = Target  +\"/\" + TaskObjectJson['Target']['DataFileName'] \r\n",
        "print(Target)\r\n",
        "Target = Target.replace('///', '/')\r\n",
        "Target = Target.replace('//', '/')\r\n",
        "print(Target)\r\n",
        "Target = \"abfss://\" + Target \r\n",
        "print(Target)"
      ],
      "outputs": [
        {
          "output_type": "display_data",
          "data": {
            "application/vnd.livy.statement-meta+json": {
              "spark_pool": "adsdevsynspads",
              "session_id": 18,
              "statement_id": 5,
              "state": "finished",
              "livy_statement_state": "available",
              "queued_time": "2022-05-30T07:27:23.3718792Z",
              "session_start_time": null,
              "execution_start_time": "2022-05-30T07:27:23.5378003Z",
              "execution_finish_time": "2022-05-30T07:27:23.694478Z"
            },
            "text/plain": "StatementMeta(adsdevsynspads, 18, 5, Finished, Available)"
          },
          "metadata": {}
        },
        {
          "output_type": "stream",
          "name": "stdout",
          "text": [
            "datalakeraw@adsdevdlsadsv3n3adsl.dfs.core.windows.net/\ndatalakeraw@adsdevdlsadsv3n3adsl.dfs.core.windows.net//samples/sif/StudentPersonal//StudentPersonal.parquet\ndatalakeraw@adsdevdlsadsv3n3adsl.dfs.core.windows.net/samples/sif/StudentPersonal/StudentPersonal.parquet\nabfss://datalakeraw@adsdevdlsadsv3n3adsl.dfs.core.windows.net/samples/sif/StudentPersonal/StudentPersonal.parquet"
          ]
        }
      ],
      "execution_count": 121,
      "metadata": {
        "jupyter": {
          "source_hidden": false,
          "outputs_hidden": false
        },
        "nteract": {
          "transient": {
            "deleting": false
          }
        }
      }
    },
    {
      "cell_type": "code",
      "source": [
        "from pyspark.sql.functions import col, explode_outer, from_json, lit, concat\r\n",
        "from pyspark.sql.types import StructType, ArrayType\r\n",
        "print(Source)\r\n",
        "input_df = spark.read.option(\"multiline\",\"true\").json(Source)\r\n",
        "display(input_df)\r\n",
        "\r\n",
        "\r\n",
        "#output_df = execute_autoflatten_with_PK(input_df,None)\r\n",
        "#display(output_df)\r\n",
        "\r\n"
      ],
      "outputs": [
        {
          "output_type": "display_data",
          "data": {
            "application/vnd.livy.statement-meta+json": {
              "spark_pool": "adsdevsynspads",
              "session_id": 18,
              "statement_id": 6,
              "state": "finished",
              "livy_statement_state": "available",
              "queued_time": "2022-05-30T07:27:25.9515389Z",
              "session_start_time": null,
              "execution_start_time": "2022-05-30T07:27:26.0748614Z",
              "execution_finish_time": "2022-05-30T07:27:40.7609306Z"
            },
            "text/plain": "StatementMeta(adsdevsynspads, 18, 6, Finished, Available)"
          },
          "metadata": {}
        },
        {
          "output_type": "stream",
          "name": "stdout",
          "text": [
            "abfss://datalakeraw@adsdevdlsadsv3n3adsl.dfs.core.windows.net/samples/sif/StudentPersonal.json\n"
          ]
        },
        {
          "output_type": "display_data",
          "data": {
            "application/vnd.synapse.widget-view+json": {
              "widget_id": "1c0a3bb4-06fb-4fc8-9933-26fa080179a3",
              "widget_type": "Synapse.DataFrame"
            },
            "text/plain": "SynapseWidget(Synapse.DataFrame, 1c0a3bb4-06fb-4fc8-9933-26fa080179a3)"
          },
          "metadata": {}
        }
      ],
      "execution_count": 122,
      "metadata": {
        "jupyter": {
          "source_hidden": false,
          "outputs_hidden": false
        },
        "nteract": {
          "transient": {
            "deleting": false
          }
        },
        "collapsed": false
      }
    },
    {
      "cell_type": "code",
      "source": [
        "from delta.tables import *\r\n",
        "\r\n",
        "df = input_df\r\n",
        "\r\n",
        "#SIF model uses RefId as Unique identifier in all the structures\r\n",
        "mergeCondition = \"oldData.RefId = newData.RefId\"\r\n",
        "\r\n",
        "\r\n",
        "\r\n",
        "\r\n",
        "print(\"SourceDT = \" + TaskObjectJson['Source']['Type']  + \", TargetDT = \" + TaskObjectJson['Target']['Type'] )\r\n",
        "#df = spark.read.load(Source, format=SourceDT)\r\n",
        "\r\n",
        "var_check = DeltaTable.isDeltaTable(spark, Target )\r\n",
        "try:\r\n",
        "    if (var_check):\r\n",
        "        print(\"Performing Merge... on Existing table\")\r\n",
        "\r\n",
        "        olddt = DeltaTable.forPath(spark, Target) \r\n",
        "\r\n",
        "        olddt.alias(\"oldData\").merge(\r\n",
        "            df.alias(\"newData\"),\r\n",
        "            mergeCondition) \\\r\n",
        "        .whenMatchedUpdateAll() \\\r\n",
        "        .whenNotMatchedInsertAll() \\\r\n",
        "        .execute()\r\n",
        "    else:\r\n",
        "        print(\"Creating new Delta Table.\")    \r\n",
        "        df.write.format(\"Delta\").save(Target)\r\n",
        "except:\r\n",
        "    print(\"Table does not exist. Creating new Delta Table.\")    \r\n",
        "    df.write.format(\"Delta\").save(Target)\r\n"
      ],
      "outputs": [
        {
          "output_type": "display_data",
          "data": {
            "application/vnd.livy.statement-meta+json": {
              "spark_pool": "adsdevsynspads",
              "session_id": 18,
              "statement_id": 12,
              "state": "finished",
              "livy_statement_state": "available",
              "queued_time": "2022-05-30T07:31:31.7776486Z",
              "session_start_time": null,
              "execution_start_time": "2022-05-30T07:31:31.9653067Z",
              "execution_finish_time": "2022-05-30T07:31:59.064624Z"
            },
            "text/plain": "StatementMeta(adsdevsynspads, 18, 12, Finished, Available)"
          },
          "metadata": {}
        },
        {
          "output_type": "stream",
          "name": "stdout",
          "text": [
            "SourceDT = Notebook-Optional, TargetDT = Notebook-Optional\nPerforming Merge... on Existing table"
          ]
        }
      ],
      "execution_count": 128,
      "metadata": {
        "jupyter": {
          "source_hidden": false,
          "outputs_hidden": false
        },
        "nteract": {
          "transient": {
            "deleting": false
          }
        }
      }
    },
    {
      "cell_type": "code",
      "source": [
        "print(\"Creating Spark Table\")\r\n",
        "df = spark.read.load(Target, format='delta')\r\n",
        "targetDB = \"sif\"\r\n",
        "targetTable = TaskObjectJson['Target']['DataFileName'].split(\".\")[0]\r\n",
        "#if the target datatype is parquet then we do not need to create a copy of the data - we can use the recently saved sink target\r\n",
        "if (TaskObjectJson['Target']['Type'] == 'Parquet'):\r\n",
        "    SnapshotTarget = Target\r\n",
        "else:\r\n",
        "    SnapshotTarget = Target + '/Snapshot/' + targetTable\r\n",
        "    #we need to update the parquet file - this is not very efficient but there isnt a current better way as delta tables are not supported for persistent tables\r\n",
        "    df.write.format(\"parquet\").mode(\"overwrite\").save(SnapshotTarget)\r\n",
        "\r\n",
        "\r\n",
        "#we need to make the DB and table lowercase as synapse persistent tables dont identify them as different identities\r\n",
        "targetDB = targetDB.lower()\r\n",
        "targetTable = targetTable.lower()\r\n",
        "\r\n",
        "#check if the specified DB / table exists - if so only do required actions.\r\n",
        "dbList = spark.catalog.listDatabases()\r\n",
        "dbExists = False\r\n",
        "for db in dbList:\r\n",
        "    if (db.name == targetDB):\r\n",
        "        dbExists = True\r\n",
        "        break\r\n",
        "if (dbExists):\r\n",
        "    print(\"DB Exists\")\r\n",
        "    tableExists = False\r\n",
        "    spark.catalog.setCurrentDatabase(targetDB)\r\n",
        "    tableList = spark.catalog.listTables()\r\n",
        "    for table in tableList:\r\n",
        "        if (table.name == targetTable):\r\n",
        "            tableExists = True\r\n",
        "            break\r\n",
        "    if (tableExists):\r\n",
        "        print(\"Table exists - nothing needed to be done\")\r\n",
        "        spark.catalog.refreshTable(targetTable)\r\n",
        "    else:\r\n",
        "        print(\"Table doesnt exist - creating\")\r\n",
        "        spark.catalog.createExternalTable(targetTable, path=SnapshotTarget, source='parquet')\r\n",
        "else:\r\n",
        "    print(\"DB Doesnt exist - creating DB and table\")\r\n",
        "    createDBString = \"CREATE DATABASE \" + targetDB \r\n",
        "    spark.sql(createDBString)\r\n",
        "    spark.catalog.setCurrentDatabase(targetDB)\r\n",
        "    spark.catalog.createExternalTable(targetTable, path=SnapshotTarget, source='parquet')"
      ],
      "outputs": [
        {
          "output_type": "display_data",
          "data": {
            "application/vnd.livy.statement-meta+json": {
              "spark_pool": "adsdevsynspads",
              "session_id": 18,
              "statement_id": 14,
              "state": "finished",
              "livy_statement_state": "available",
              "queued_time": "2022-05-30T07:33:09.1978956Z",
              "session_start_time": null,
              "execution_start_time": "2022-05-30T07:33:09.3053647Z",
              "execution_finish_time": "2022-05-30T07:33:24.0745803Z"
            },
            "text/plain": "StatementMeta(adsdevsynspads, 18, 14, Finished, Available)"
          },
          "metadata": {}
        },
        {
          "output_type": "stream",
          "name": "stdout",
          "text": [
            "Creating Spark Table\nDB Doesnt exist - creating DB and table\n"
          ]
        },
        {
          "output_type": "display_data",
          "data": {
            "text/plain": "DataFrame[]"
          },
          "metadata": {}
        },
        {
          "output_type": "display_data",
          "data": {
            "text/plain": "DataFrame[AcceptableUsePolicy: string, AlertMessages: struct<AlertMessage:array<struct<Type:string,value:string>>>, Disability: string, ESL: string, ESLDateAssessed: string, EconomicDisadvantage: string, EducationSupport: string, ElectronicIdList: struct<ElectronicId:array<struct<Type:string,value:string>>>, HomeSchooledStudent: string, IndependentStudent: string, IntegrationAide: string, LocalCodeList: struct<LocalCode:array<struct<Description:string,Element:string,ListIndex:bigint,LocalisedCode:string>>>, LocalId: string, MedicalAlertMessages: struct<MedicalAlertMessage:array<struct<Severity:string,value:string>>>, MostRecent: struct<ClassCode:string,FFPOS:string,FTE:double,Homegroup:string,HomeroomLocalId:string,LocalCampusId:string,MembershipType:string,OtherEnrollmentSchoolACARAId:string,Parent1Language:string,Parent2Language:string,ReportingSchoolId:string,SchoolACARAId:string,SchoolLocalId:string,YearLevel:struct<Code:string>>, NationalUniqueStudentIdentifier: string, OnTimeGraduationYear: string, OtherIdList: struct<OtherId:array<struct<Type:string,value:string>>>, PersonInfo: struct<AddressList:struct<Address:array<struct<City:string,Country:string,PostalCode:string,Role:string,StateProvince:string,Street:struct<Line1:string,Line2:string>,Type:string>>>,Demographics:struct<AustralianCitizenshipStatus:string,BirthDate:string,BirthDateVerification:string,CountriesOfCitizenship:struct<CountryOfCitizenship:array<string>>,CountriesOfResidency:struct<CountryOfResidency:array<string>>,CountryArrivalDate:string,CountryOfBirth:string,DwellingArrangement:struct<Code:string>,EnglishProficiency:struct<Code:string>,IndigenousStatus:string,LanguageList:struct<Language:array<struct<Code:string,LanguageType:string>>>,Passport:struct<Country:string,ExpiryDate:string,Number:string>,PermanentResident:string,PlaceOfBirth:string,Religion:struct<Code:string>,ReligiousEventList:struct<ReligiousEvent:array<struct<Date:string,Type:string>>>,ReligiousRegion:string,Sex:string,StateOfBirth:string,VisaStatisticalCode:string,VisaSubClass:string,VisaSubClassList:struct<VisaSubClass:array<struct<ATEExpiryDate:string,ATEStartDate:string,Code:string,VisaExpiryDate:string,VisaStatisticalCode:string>>>>,EmailList:struct<Email:array<struct<Type:string,value:string>>>,Name:struct<FamilyName:string,FullName:string,GivenName:string,Type:string>,OtherNames:struct<Name:array<struct<FamilyName:string,FullName:string,GivenName:string,Type:string>>>,PhoneNumberList:struct<PhoneNumber:array<struct<Extension:string,ListedStatus:string,Number:string,Type:string>>>>, ProjectedGraduationYear: string, RefId: string, Sensitive: string, StateProvinceId: string, YoungCarersRole: string]"
          },
          "metadata": {}
        }
      ],
      "execution_count": 130,
      "metadata": {
        "jupyter": {
          "source_hidden": false,
          "outputs_hidden": false
        },
        "nteract": {
          "transient": {
            "deleting": false
          }
        }
      }
    }
  ],
  "metadata": {
    "kernelspec": {
      "name": "synapse_pyspark",
      "language": "Python",
      "display_name": "Synapse PySpark"
    },
    "language_info": {
      "name": "python"
    },
    "kernel_info": {
      "name": "synapse_pyspark"
    },
    "description": null,
    "save_output": true,
    "synapse_widget": {
      "version": "0.1",
      "state": {
        "1c0a3bb4-06fb-4fc8-9933-26fa080179a3": {
          "type": "Synapse.DataFrame",
          "sync_state": {
            "table": {
              "rows": [
                {
                  "0": "Y",
                  "1": {
                    "AlertMessage": [
                      {
                        "Type": "Legal",
                        "value": "Mother is legal guardian"
                      }
                    ]
                  },
                  "2": "N",
                  "3": "Y",
                  "4": "2016-04-23",
                  "5": "N",
                  "6": "N",
                  "7": {
                    "ElectronicId": [
                      {
                        "Type": "03",
                        "value": "ZZZZZZ21"
                      },
                      {
                        "Type": "03",
                        "value": "ZZZZZZ22"
                      }
                    ]
                  },
                  "8": "N",
                  "9": "N",
                  "10": "N",
                  "11": {
                    "LocalCode": [
                      {
                        "Description": "Serbia Montenegro",
                        "Element": "StudentPersonal/PersonInfo/Demographics/CountryOfBirth",
                        "LocalisedCode": "0921"
                      },
                      {
                        "Description": "Serbia Montenegro",
                        "Element": "StudentPersonal/PersonInfo/Demographics/CountriesOfCitizenship/CountryOfCitizenship",
                        "ListIndex": 1,
                        "LocalisedCode": "0921"
                      }
                    ]
                  },
                  "12": "S1234567",
                  "13": {
                    "MedicalAlertMessage": [
                      {
                        "Severity": "Severe",
                        "value": "Student has Peanut Allergy"
                      },
                      {
                        "Severity": "Moderate",
                        "value": "Student has Diabetes"
                      }
                    ]
                  },
                  "14": {
                    "HomeroomLocalId": "hr12345",
                    "MembershipType": "02",
                    "Homegroup": "7A",
                    "ReportingSchoolId": "VIC670",
                    "FTE": 0.5,
                    "YearLevel": {
                      "Code": "P"
                    },
                    "SchoolLocalId": "S1234567",
                    "Parent1Language": "1201",
                    "ClassCode": "English 7D",
                    "Parent2Language": "1201",
                    "FFPOS": "2",
                    "LocalCampusId": "D",
                    "OtherEnrollmentSchoolACARAId": "VIC6273",
                    "SchoolACARAId": "VIC687"
                  },
                  "15": "12345678",
                  "16": "2012",
                  "17": {
                    "OtherId": [
                      {
                        "Type": "PreviousNAPPlatformStudentId",
                        "value": "888rdgf"
                      },
                      {
                        "Type": "DiocesanStudentId",
                        "value": "1234"
                      }
                    ]
                  },
                  "18": {
                    "Name": {
                      "FamilyName": "Smith",
                      "FullName": "Fred Smith",
                      "GivenName": "Fred",
                      "Type": "LGL"
                    },
                    "PhoneNumberList": {
                      "PhoneNumber": [
                        {
                          "Extension": "72289",
                          "ListedStatus": "Y",
                          "Number": "03 9637-2289",
                          "Type": "0096"
                        },
                        {
                          "ListedStatus": "N",
                          "Number": "0437-765-234",
                          "Type": "0888"
                        }
                      ]
                    },
                    "OtherNames": {
                      "Name": [
                        {
                          "FamilyName": "Anderson",
                          "FullName": "Samuel Anderson",
                          "GivenName": "Samuel",
                          "Type": "AKA"
                        },
                        {
                          "FamilyName": "Rowinski",
                          "FullName": "Sam Rowinski ",
                          "GivenName": "Sam",
                          "Type": "PRF"
                        }
                      ]
                    },
                    "Demographics": {
                      "IndigenousStatus": "3",
                      "ReligiousEventList": {
                        "ReligiousEvent": [
                          {
                            "Date": "2000-09-01",
                            "Type": "Baptism"
                          },
                          {
                            "Date": "2009-12-24",
                            "Type": "Christmas"
                          }
                        ]
                      },
                      "PlaceOfBirth": "Clayton",
                      "Passport": {
                        "Country": "4111",
                        "ExpiryDate": "2030-12-11",
                        "Number": "9"
                      },
                      "LanguageList": {
                        "Language": [
                          {
                            "Code": "0001",
                            "LanguageType": "1"
                          }
                        ]
                      },
                      "BirthDateVerification": "1004",
                      "VisaSubClass": "101",
                      "PermanentResident": "P",
                      "VisaSubClassList": {
                        "VisaSubClass": [
                          {
                            "VisaExpiryDate": "2019-07-25",
                            "ATEStartDate": "2017-12-26",
                            "ATEExpiryDate": "2016-12-26",
                            "Code": "401",
                            "VisaStatisticalCode": "05"
                          }
                        ]
                      },
                      "ReligiousRegion": "The Religion Region",
                      "Religion": {
                        "Code": "2013"
                      },
                      "BirthDate": "1990-09-26",
                      "CountriesOfCitizenship": {
                        "CountryOfCitizenship": [
                          "8104",
                          "1101"
                        ]
                      },
                      "DwellingArrangement": {
                        "Code": "1671"
                      },
                      "StateOfBirth": "VIC",
                      "AustralianCitizenshipStatus": "1",
                      "CountriesOfResidency": {
                        "CountryOfResidency": [
                          "8104",
                          "1101"
                        ]
                      },
                      "CountryOfBirth": "1101",
                      "VisaStatisticalCode": "05",
                      "CountryArrivalDate": "1990-09-26",
                      "Sex": "1",
                      "EnglishProficiency": {
                        "Code": "1"
                      }
                    },
                    "AddressList": {
                      "Address": [
                        {
                          "Role": "2382",
                          "Country": "1101",
                          "StateProvince": "VIC",
                          "Street": {
                            "Line1": "Unit1/10",
                            "Line2": "Barkley Street"
                          },
                          "City": "Yarra Glenn",
                          "PostalCode": "9999",
                          "Type": "0123"
                        },
                        {
                          "Role": "013A",
                          "Country": "1101",
                          "StateProvince": "WA",
                          "Street": {
                            "Line1": "34 Term Address Street"
                          },
                          "City": "Home Town",
                          "PostalCode": "9999",
                          "Type": "0123A"
                        }
                      ]
                    },
                    "EmailList": {
                      "Email": [
                        {
                          "Type": "01",
                          "value": "fsmith@yahoo.com"
                        },
                        {
                          "Type": "02",
                          "value": "freddy@gmail.com"
                        }
                      ]
                    }
                  },
                  "19": "2014",
                  "20": "7C834EA9-EDA1-2090-347F-83297E1C290C",
                  "21": "N",
                  "22": "ABC1234",
                  "23": "N"
                }
              ],
              "schema": [
                {
                  "key": "0",
                  "name": "AcceptableUsePolicy",
                  "type": "string"
                },
                {
                  "key": "1",
                  "name": "AlertMessages",
                  "type": "StructType(StructField(AlertMessage,ArrayType(StructType(StructField(Type,StringType,true), StructField(value,StringType,true)),true),true))"
                },
                {
                  "key": "2",
                  "name": "Disability",
                  "type": "string"
                },
                {
                  "key": "3",
                  "name": "ESL",
                  "type": "string"
                },
                {
                  "key": "4",
                  "name": "ESLDateAssessed",
                  "type": "string"
                },
                {
                  "key": "5",
                  "name": "EconomicDisadvantage",
                  "type": "string"
                },
                {
                  "key": "6",
                  "name": "EducationSupport",
                  "type": "string"
                },
                {
                  "key": "7",
                  "name": "ElectronicIdList",
                  "type": "StructType(StructField(ElectronicId,ArrayType(StructType(StructField(Type,StringType,true), StructField(value,StringType,true)),true),true))"
                },
                {
                  "key": "8",
                  "name": "HomeSchooledStudent",
                  "type": "string"
                },
                {
                  "key": "9",
                  "name": "IndependentStudent",
                  "type": "string"
                },
                {
                  "key": "10",
                  "name": "IntegrationAide",
                  "type": "string"
                },
                {
                  "key": "11",
                  "name": "LocalCodeList",
                  "type": "StructType(StructField(LocalCode,ArrayType(StructType(StructField(Description,StringType,true), StructField(Element,StringType,true), StructField(ListIndex,LongType,true), StructField(LocalisedCode,StringType,true)),true),true))"
                },
                {
                  "key": "12",
                  "name": "LocalId",
                  "type": "string"
                },
                {
                  "key": "13",
                  "name": "MedicalAlertMessages",
                  "type": "StructType(StructField(MedicalAlertMessage,ArrayType(StructType(StructField(Severity,StringType,true), StructField(value,StringType,true)),true),true))"
                },
                {
                  "key": "14",
                  "name": "MostRecent",
                  "type": "StructType(StructField(ClassCode,StringType,true), StructField(FFPOS,StringType,true), StructField(FTE,DoubleType,true), StructField(Homegroup,StringType,true), StructField(HomeroomLocalId,StringType,true), StructField(LocalCampusId,StringType,true), StructField(MembershipType,StringType,true), StructField(OtherEnrollmentSchoolACARAId,StringType,true), StructField(Parent1Language,StringType,true), StructField(Parent2Language,StringType,true), StructField(ReportingSchoolId,StringType,true), StructField(SchoolACARAId,StringType,true), StructField(SchoolLocalId,StringType,true), StructField(YearLevel,StructType(StructField(Code,StringType,true)),true))"
                },
                {
                  "key": "15",
                  "name": "NationalUniqueStudentIdentifier",
                  "type": "string"
                },
                {
                  "key": "16",
                  "name": "OnTimeGraduationYear",
                  "type": "string"
                },
                {
                  "key": "17",
                  "name": "OtherIdList",
                  "type": "StructType(StructField(OtherId,ArrayType(StructType(StructField(Type,StringType,true), StructField(value,StringType,true)),true),true))"
                },
                {
                  "key": "18",
                  "name": "PersonInfo",
                  "type": "StructType(StructField(AddressList,StructType(StructField(Address,ArrayType(StructType(StructField(City,StringType,true), StructField(Country,StringType,true), StructField(PostalCode,StringType,true), StructField(Role,StringType,true), StructField(StateProvince,StringType,true), StructField(Street,StructType(StructField(Line1,StringType,true), StructField(Line2,StringType,true)),true), StructField(Type,StringType,true)),true),true)),true), StructField(Demographics,StructType(StructField(AustralianCitizenshipStatus,StringType,true), StructField(BirthDate,StringType,true), StructField(BirthDateVerification,StringType,true), StructField(CountriesOfCitizenship,StructType(StructField(CountryOfCitizenship,ArrayType(StringType,true),true)),true), StructField(CountriesOfResidency,StructType(StructField(CountryOfResidency,ArrayType(StringType,true),true)),true), StructField(CountryArrivalDate,StringType,true), StructField(CountryOfBirth,StringType,true), StructField(DwellingArrangement,StructType(StructField(Code,StringType,true)),true), StructField(EnglishProficiency,StructType(StructField(Code,StringType,true)),true), StructField(IndigenousStatus,StringType,true), StructField(LanguageList,StructType(StructField(Language,ArrayType(StructType(StructField(Code,StringType,true), StructField(LanguageType,StringType,true)),true),true)),true), StructField(Passport,StructType(StructField(Country,StringType,true), StructField(ExpiryDate,StringType,true), StructField(Number,StringType,true)),true), StructField(PermanentResident,StringType,true), StructField(PlaceOfBirth,StringType,true), StructField(Religion,StructType(StructField(Code,StringType,true)),true), StructField(ReligiousEventList,StructType(StructField(ReligiousEvent,ArrayType(StructType(StructField(Date,StringType,true), StructField(Type,StringType,true)),true),true)),true), StructField(ReligiousRegion,StringType,true), StructField(Sex,StringType,true), StructField(StateOfBirth,StringType,true), StructField(VisaStatisticalCode,StringType,true), StructField(VisaSubClass,StringType,true), StructField(VisaSubClassList,StructType(StructField(VisaSubClass,ArrayType(StructType(StructField(ATEExpiryDate,StringType,true), StructField(ATEStartDate,StringType,true), StructField(Code,StringType,true), StructField(VisaExpiryDate,StringType,true), StructField(VisaStatisticalCode,StringType,true)),true),true)),true)),true), StructField(EmailList,StructType(StructField(Email,ArrayType(StructType(StructField(Type,StringType,true), StructField(value,StringType,true)),true),true)),true), StructField(Name,StructType(StructField(FamilyName,StringType,true), StructField(FullName,StringType,true), StructField(GivenName,StringType,true), StructField(Type,StringType,true)),true), StructField(OtherNames,StructType(StructField(Name,ArrayType(StructType(StructField(FamilyName,StringType,true), StructField(FullName,StringType,true), StructField(GivenName,StringType,true), StructField(Type,StringType,true)),true),true)),true), StructField(PhoneNumberList,StructType(StructField(PhoneNumber,ArrayType(StructType(StructField(Extension,StringType,true), StructField(ListedStatus,StringType,true), StructField(Number,StringType,true), StructField(Type,StringType,true)),true),true)),true))"
                },
                {
                  "key": "19",
                  "name": "ProjectedGraduationYear",
                  "type": "string"
                },
                {
                  "key": "20",
                  "name": "RefId",
                  "type": "string"
                },
                {
                  "key": "21",
                  "name": "Sensitive",
                  "type": "string"
                },
                {
                  "key": "22",
                  "name": "StateProvinceId",
                  "type": "string"
                },
                {
                  "key": "23",
                  "name": "YoungCarersRole",
                  "type": "string"
                }
              ],
              "truncated": false
            },
            "isSummary": false,
            "language": "scala"
          },
          "persist_state": {
            "view": {
              "type": "details",
              "tableOptions": {},
              "chartOptions": {
                "chartType": "bar",
                "aggregationType": "count",
                "categoryFieldKeys": [
                  "0"
                ],
                "seriesFieldKeys": [
                  "0"
                ],
                "isStacked": false
              }
            }
          }
        }
      }
    }
  },
  "nbformat": 4,
  "nbformat_minor": 2
}