{
  "cells": [
    {
      "cell_type": "markdown",
      "source": [
        "Persist Codesets"
      ],
      "metadata": {
        "nteract": {
          "transient": {
            "deleting": false
          }
        }
      }
    },
    {
      "cell_type": "code",
      "source": [
        "import json\r\n",
        "dict1 = json.loads('{\"StorageAccountName\": \"adsdevdlsadstad5adsl\", \"StorageAccountContainer\":\"datalakeraw\", \"StorageAccountFolder\": \"/samples/sif/SifOpenApi/\", \"SifDbName\":\"sif\"}')\r\n",
        "dict2 = json.dumps(dict1)\r\n",
        "mssparkutils.notebook.run(\"FrameworkNotebooks/sif/SIFLoadCodeSets\", 900,dict1)"
      ],
      "outputs": [
        {
          "output_type": "display_data",
          "data": {
            "application/vnd.livy.statement-meta+json": {
              "spark_pool": "adsdevsynspads",
              "session_id": 4,
              "statement_id": 13,
              "state": "finished",
              "livy_statement_state": "available",
              "queued_time": "2022-07-04T05:07:43.5967587Z",
              "session_start_time": null,
              "execution_start_time": "2022-07-04T05:07:43.6973277Z",
              "execution_finish_time": "2022-07-04T05:12:19.356419Z"
            },
            "text/plain": "StatementMeta(adsdevsynspads, 4, 13, Finished, Available)"
          },
          "metadata": {}
        },
        {
          "output_type": "display_data",
          "data": {
            "application/vnd.synapse.mssparkutilsrun-result+json": {
              "run_id": "eb3acee8-c50f-4cb9-af2e-7d0d25809348",
              "in_pipeline": false,
              "notebook_name": "SIFLoadCodeSets",
              "snapshot_path": "/runNotebookApi/versions/1/run/eb3acee8-c50f-4cb9-af2e-7d0d25809348/snapshot",
              "error": null,
              "session_id": "4",
              "spark_pool": "adsdevsynspads"
            }
          },
          "metadata": {}
        },
        {
          "output_type": "execute_result",
          "execution_count": 29,
          "data": {
            "text/plain": "''"
          },
          "metadata": {}
        }
      ],
      "execution_count": 14,
      "metadata": {
        "jupyter": {
          "source_hidden": false,
          "outputs_hidden": false
        },
        "nteract": {
          "transient": {
            "deleting": false
          }
        }
      }
    },
    {
      "cell_type": "code",
      "source": [
        "StorageAccountName = \"adsdevdlsadstad5adsl\"\r\n",
        "StorageAccountContainer = \"datalakeraw\"\r\n",
        "StorageAccountFolder = \"/samples/sif/\"\r\n",
        "SifDbName = \"sif\""
      ],
      "outputs": [
        {
          "output_type": "display_data",
          "data": {
            "application/vnd.livy.statement-meta+json": {
              "spark_pool": "adsdevsynspads",
              "session_id": 4,
              "statement_id": 15,
              "state": "finished",
              "livy_statement_state": "available",
              "queued_time": "2022-07-04T05:14:44.8891321Z",
              "session_start_time": null,
              "execution_start_time": "2022-07-04T05:14:50.0563608Z",
              "execution_finish_time": "2022-07-04T05:14:55.0942011Z"
            },
            "text/plain": "StatementMeta(adsdevsynspads, 4, 15, Finished, Available)"
          },
          "metadata": {}
        }
      ],
      "execution_count": 16,
      "metadata": {
        "jupyter": {
          "source_hidden": false,
          "outputs_hidden": false
        },
        "nteract": {
          "transient": {
            "deleting": false
          }
        }
      }
    },
    {
      "cell_type": "code",
      "source": [
        "def GetTaskObject(StorageAccountName, Entity):\r\n",
        "    TaskObject = \"{\\\"TaskInstanceId\\\":53,\\\"TaskMasterId\\\":1,\\\"TaskStatus\\\":\\\"InProgress\\\",\\\"TaskType\\\":\\\"Execute Synapse Notebook\\\",\\\"Enabled\\\":1,\\\"ExecutionUid\\\":\\\"dc872650-b992-4cae-9ae2-c714c95563ee\\\",\\\"NumberOfRetries\\\":2,\\\"DegreeOfCopyParallelism\\\":1, \\\"KeyVaultBaseUrl\\\":\\\"https://ads-dev-kv-ads-tad5.vault.azure.net/\\\",\\\"ScheduleMasterId\\\":\\\"-4\\\",\\\"TaskGroupConcurrency\\\":\\\"10\\\",\\\"TaskGroupPriority\\\":0,\\\"TaskExecutionType\\\":\\\"ADF\\\",\\\"Source\\\":{\\\"System\\\":{\\\"SystemId\\\":-4, \\\"SystemServer\\\":\\\"https://\"+StorageAccountName+\".dfs.core.windows.net\\\",\\\"AuthenticationType\\\":\\\"MSI\\\",\\\"Type\\\":\\\"ADLS\\\",\\\"Username\\\":null,\\\"Container\\\":\\\"datalakeraw\\\"},\\\"Instance\\\":{\\\"SourceRelativePath\\\":\\\"/samples/sif/\\\",  \\\"TargetRelativePath\\\":\\\"/samples/sif/\"+Entity+\"/\\\"},\\\"DataFileName\\\":\\\"\"+Entity+\".json\\\",\\\"RelativePath\\\":\\\"/samples/sif/\\\",\\\"SchemaFileName\\\":\\\"\\\",\\\"Type\\\":\\\"Notebook-Optional\\\",\\\"WriteSchemaToPurview\\\":\\\"Disabled\\\"}, \\\"Target\\\":{\\\"System\\\":{\\\"SystemId\\\":-4,\\\"SystemServer\\\":\\\"https://\"+StorageAccountName+\".dfs.core.windows.net\\\",\\\"AuthenticationType\\\":\\\"MSI\\\",\\\"Type\\\":\\\"ADLS\\\",\\\"Username\\\":null,\\\"Container\\\":\\\"datalakeraw\\\"},\\\"Instance\\\":{\\\"SourceRelativePath\\\":\\\"/samples/sif/\\\",\\\"TargetRelativePath\\\":\\\"/samples/sif/\"+Entity+\"/\\\"},\\\"DataFileName\\\":\\\"\"+Entity+\".parquet\\\",\\\"RelativePath\\\":\\\"/samples/sif/\"+Entity+\"/\\\", \\\"SchemaFileName\\\":\\\"\\\",\\\"Type\\\":\\\"Notebook-Optional\\\",\\\"WriteSchemaToPurview\\\":\\\"Disabled\\\"},\\\"TMOptionals\\\":{\\\"CustomDefinitions\\\":\\\"\\\",\\\"ExecuteNotebook\\\":\\\"SIFParameterizedJson\\\",\\\"Purview\\\":\\\"Disabled\\\", \\\"QualifiedIDAssociation\\\":\\\"TaskMasterId\\\",\\\"UseNotebookActivity\\\":\\\"Enabled\\\"}}\"\r\n",
        "    return TaskObject\r\n",
        "\r\n"
      ],
      "outputs": [
        {
          "output_type": "display_data",
          "data": {
            "application/vnd.livy.statement-meta+json": {
              "spark_pool": "adsdevsynspads",
              "session_id": 4,
              "statement_id": 68,
              "state": "finished",
              "livy_statement_state": "available",
              "queued_time": "2022-07-04T05:50:28.8802815Z",
              "session_start_time": null,
              "execution_start_time": "2022-07-04T05:50:29.4525098Z",
              "execution_finish_time": "2022-07-04T05:50:29.6003715Z"
            },
            "text/plain": "StatementMeta(adsdevsynspads, 4, 68, Finished, Available)"
          },
          "metadata": {}
        }
      ],
      "execution_count": 69,
      "metadata": {
        "jupyter": {
          "source_hidden": false,
          "outputs_hidden": false
        },
        "nteract": {
          "transient": {
            "deleting": false
          }
        }
      }
    },
    {
      "cell_type": "code",
      "source": [
        "OutputDict = {}\r\n",
        "OutputDict['TaskObject'] = GetTaskObject(StorageAccountName = StorageAccountName, Entity=\"StaffPersonal\")\r\n",
        "mssparkutils.notebook.run(\"FrameworkNotebooks/sif/SIFParameterizedJson\",900, OutputDict)\r\n",
        "\r\n",
        "\r\n"
      ],
      "outputs": [
        {
          "output_type": "display_data",
          "data": {
            "application/vnd.livy.statement-meta+json": {
              "spark_pool": "adsdevsynspads",
              "session_id": 4,
              "statement_id": 71,
              "state": "finished",
              "livy_statement_state": "available",
              "queued_time": "2022-07-04T05:51:40.6323531Z",
              "session_start_time": null,
              "execution_start_time": "2022-07-04T05:51:40.741139Z",
              "execution_finish_time": "2022-07-04T05:52:09.7774775Z"
            },
            "text/plain": "StatementMeta(adsdevsynspads, 4, 71, Finished, Available)"
          },
          "metadata": {}
        },
        {
          "output_type": "display_data",
          "data": {
            "application/vnd.synapse.mssparkutilsrun-result+json": {
              "run_id": "a405ed37-a656-4a9e-bbbc-bb0e02301cec",
              "in_pipeline": false,
              "notebook_name": "SIFParameterizedJson",
              "snapshot_path": "/runNotebookApi/versions/1/run/a405ed37-a656-4a9e-bbbc-bb0e02301cec/snapshot",
              "error": null,
              "session_id": "4",
              "spark_pool": "adsdevsynspads"
            }
          },
          "metadata": {}
        },
        {
          "output_type": "execute_result",
          "execution_count": 145,
          "data": {
            "text/plain": "''"
          },
          "metadata": {}
        }
      ],
      "execution_count": 72,
      "metadata": {
        "jupyter": {
          "source_hidden": false,
          "outputs_hidden": false
        },
        "nteract": {
          "transient": {
            "deleting": false
          }
        }
      }
    },
    {
      "cell_type": "code",
      "source": [
        "OutputDict['TaskObject'] = GetTaskObject(StorageAccountName = StorageAccountName, Entity=\"StudentDailyAttendance\")\r\n",
        "mssparkutils.notebook.run(\"FrameworkNotebooks/sif/SIFParameterizedJson\",900, OutputDict)"
      ],
      "outputs": [
        {
          "output_type": "display_data",
          "data": {
            "application/vnd.livy.statement-meta+json": {
              "spark_pool": "adsdevsynspads",
              "session_id": 4,
              "statement_id": 72,
              "state": "finished",
              "livy_statement_state": "available",
              "queued_time": "2022-07-04T06:16:53.9848196Z",
              "session_start_time": null,
              "execution_start_time": "2022-07-04T06:16:54.2503207Z",
              "execution_finish_time": "2022-07-04T06:17:19.0801404Z"
            },
            "text/plain": "StatementMeta(adsdevsynspads, 4, 72, Finished, Available)"
          },
          "metadata": {}
        },
        {
          "output_type": "display_data",
          "data": {
            "application/vnd.synapse.mssparkutilsrun-result+json": {
              "run_id": "7f007a59-71f2-4be6-a0e4-9c106635e245",
              "in_pipeline": false,
              "notebook_name": "SIFParameterizedJson",
              "snapshot_path": "/runNotebookApi/versions/1/run/7f007a59-71f2-4be6-a0e4-9c106635e245/snapshot",
              "error": null,
              "session_id": "4",
              "spark_pool": "adsdevsynspads"
            }
          },
          "metadata": {}
        },
        {
          "output_type": "execute_result",
          "execution_count": 147,
          "data": {
            "text/plain": "''"
          },
          "metadata": {}
        }
      ],
      "execution_count": 73,
      "metadata": {
        "jupyter": {
          "source_hidden": false,
          "outputs_hidden": false
        },
        "nteract": {
          "transient": {
            "deleting": false
          }
        }
      }
    }
  ],
  "metadata": {
    "kernelspec": {
      "name": "synapse_pyspark",
      "language": "Python",
      "display_name": "Synapse PySpark"
    },
    "language_info": {
      "name": "python"
    },
    "kernel_info": {
      "name": "synapse_pyspark"
    },
    "description": null,
    "save_output": true,
    "synapse_widget": {
      "version": "0.1",
      "state": {}
    }
  },
  "nbformat": 4,
  "nbformat_minor": 2
}